{
 "cells": [
  {
   "cell_type": "code",
   "execution_count": 1,
   "metadata": {
    "collapsed": false
   },
   "outputs": [],
   "source": [
    "import pandas as pd\n",
    "import numpy as np\n",
    "import matplotlib.pyplot as plt\n",
    "import seaborn as sns\n",
    "import itertools as it\n",
    "from sklearn.feature_extraction.text import CountVectorizer, TfidfVectorizer\n",
    "from sklearn.cross_validation import train_test_split, cross_val_score, cross_val_predict\n",
    "from sklearn.naive_bayes import MultinomialNB\n",
    "from sklearn.metrics import accuracy_score, precision_score, confusion_matrix\n",
    "% matplotlib inline"
   ]
  },
  {
   "cell_type": "markdown",
   "metadata": {},
   "source": [
    "# Vectors and Models\n",
    "We've more or less settled on using TFIDF as the vectorizer of record. This is because we are looking at frequencies across a range of documents. We went to all the trouble of creating corpora of various lengths in order to have a better experimental field for the research."
   ]
  },
  {
   "cell_type": "markdown",
   "metadata": {},
   "source": [
    "Twain = 1 \n",
    "Wilde = 2 \n",
    "Lincoln = 3\n",
    "///\n",
    "D_Twain = 10 \n",
    "D_Wilde = 20 \n",
    "D_Lincoln = 30\n",
    "///\n",
    "Modern = 100"
   ]
  },
  {
   "cell_type": "markdown",
   "metadata": {},
   "source": [
    "1000-, 500-, and 100-record samples for each original writer - Twain, Wilde, Lincoln"
   ]
  },
  {
   "cell_type": "code",
   "execution_count": 3,
   "metadata": {
    "collapsed": false
   },
   "outputs": [],
   "source": [
    "a_df = pd.read_csv('author_counts.csv', sep=\"|\", encoding=\"utf-8\")"
   ]
  },
  {
   "cell_type": "code",
   "execution_count": 4,
   "metadata": {
    "collapsed": false
   },
   "outputs": [],
   "source": [
    "a_df.drop(['Unnamed: 0'], axis=1, inplace=True)"
   ]
  },
  {
   "cell_type": "code",
   "execution_count": 5,
   "metadata": {
    "collapsed": false
   },
   "outputs": [
    {
     "data": {
      "text/html": [
       "<div>\n",
       "<table border=\"1\" class=\"dataframe\">\n",
       "  <thead>\n",
       "    <tr style=\"text-align: right;\">\n",
       "      <th></th>\n",
       "      <th>Name</th>\n",
       "      <th>char_count</th>\n",
       "      <th>word_count</th>\n",
       "      <th>sentence_count</th>\n",
       "    </tr>\n",
       "  </thead>\n",
       "  <tbody>\n",
       "    <tr>\n",
       "      <th>0</th>\n",
       "      <td>Mark Twain</td>\n",
       "      <td>14712397</td>\n",
       "      <td>3143540</td>\n",
       "      <td>136199</td>\n",
       "    </tr>\n",
       "    <tr>\n",
       "      <th>1</th>\n",
       "      <td>Oscar Wilde</td>\n",
       "      <td>2856299</td>\n",
       "      <td>595302</td>\n",
       "      <td>38528</td>\n",
       "    </tr>\n",
       "    <tr>\n",
       "      <th>2</th>\n",
       "      <td>Abraham Lincoln</td>\n",
       "      <td>2646227</td>\n",
       "      <td>531241</td>\n",
       "      <td>17649</td>\n",
       "    </tr>\n",
       "  </tbody>\n",
       "</table>\n",
       "</div>"
      ],
      "text/plain": [
       "              Name  char_count  word_count  sentence_count\n",
       "0       Mark Twain    14712397     3143540          136199\n",
       "1      Oscar Wilde     2856299      595302           38528\n",
       "2  Abraham Lincoln     2646227      531241           17649"
      ]
     },
     "execution_count": 5,
     "metadata": {},
     "output_type": "execute_result"
    }
   ],
   "source": [
    "a_df"
   ]
  },
  {
   "cell_type": "code",
   "execution_count": 2,
   "metadata": {
    "collapsed": true
   },
   "outputs": [],
   "source": [
    "# t_root = '../code/twain_final/t_'\n",
    "# w_root = '../code/wilde_final/w_'\n",
    "# c_root = '../code/lincoln_final/c_'"
   ]
  },
  {
   "cell_type": "code",
   "execution_count": 3,
   "metadata": {
    "collapsed": false
   },
   "outputs": [],
   "source": [
    "# roots = [t_root, w_root, c_root]\n",
    "# var = ['1k_H', '1k_W', '1k_S', '500_H', '500_W', '500_S', '100_H', '100_W', '100_S']\n",
    "# auths = ['t_', 'w_', 'c_']"
   ]
  },
  {
   "cell_type": "code",
   "execution_count": null,
   "metadata": {
    "collapsed": false
   },
   "outputs": [],
   "source": [
    "# combo = it.product(roots, var)\n",
    "# filn = []\n",
    "# for i in combo:\n",
    "#     filn.append([i[0] + i[1]])\n",
    "\n",
    "# filn"
   ]
  },
  {
   "cell_type": "code",
   "execution_count": 67,
   "metadata": {
    "collapsed": false
   },
   "outputs": [],
   "source": [
    "# combo2 = it.product(auths, var)\n",
    "# dfn = []\n",
    "# for o in combo2:\n",
    "#     print o[0] + o[1]\n",
    "\n",
    "# Alright. I am out of time for messing about with this. I'm going to do it in the most straightforward way I know how.\n",
    "# Excel!"
   ]
  },
  {
   "cell_type": "code",
   "execution_count": 4,
   "metadata": {
    "collapsed": true
   },
   "outputs": [],
   "source": [
    "t_1k_H=pd.read_csv('../code/twain_final/t_1k_H.csv', sep=\"|\", encoding=\"utf-8\")\n",
    "t_1k_W=pd.read_csv('../code/twain_final/t_1k_W.csv', sep=\"|\", encoding=\"utf-8\")\n",
    "t_1k_S=pd.read_csv('../code/twain_final/t_1k_S.csv', sep=\"|\", encoding=\"utf-8\")\n",
    "t_500_H=pd.read_csv('../code/twain_final/t_500_H.csv', sep=\"|\", encoding=\"utf-8\")\n",
    "t_500_W=pd.read_csv('../code/twain_final/t_500_W.csv', sep=\"|\", encoding=\"utf-8\")\n",
    "t_500_S=pd.read_csv('../code/twain_final/t_500_S.csv', sep=\"|\", encoding=\"utf-8\")\n",
    "t_100_H=pd.read_csv('../code/twain_final/t_100_H.csv', sep=\"|\", encoding=\"utf-8\")\n",
    "t_100_W=pd.read_csv('../code/twain_final/t_100_W.csv', sep=\"|\", encoding=\"utf-8\")\n",
    "t_100_S=pd.read_csv('../code/twain_final/t_100_S.csv', sep=\"|\", encoding=\"utf-8\")"
   ]
  },
  {
   "cell_type": "code",
   "execution_count": 5,
   "metadata": {
    "collapsed": true
   },
   "outputs": [],
   "source": [
    "w_1k_H=pd.read_csv('../code/wilde_final/w_1k_H.csv', sep=\"|\", encoding=\"utf-8\")\n",
    "w_1k_W=pd.read_csv('../code/wilde_final/w_1k_W.csv', sep=\"|\", encoding=\"utf-8\")\n",
    "w_1k_S=pd.read_csv('../code/wilde_final/w_1k_S.csv', sep=\"|\", encoding=\"utf-8\")\n",
    "w_500_H=pd.read_csv('../code/wilde_final/w_500_H.csv', sep=\"|\", encoding=\"utf-8\")\n",
    "w_500_W=pd.read_csv('../code/wilde_final/w_500_W.csv', sep=\"|\", encoding=\"utf-8\")\n",
    "w_500_S=pd.read_csv('../code/wilde_final/w_500_S.csv', sep=\"|\", encoding=\"utf-8\")\n",
    "w_100_H=pd.read_csv('../code/wilde_final/w_100_H.csv', sep=\"|\", encoding=\"utf-8\")\n",
    "w_100_W=pd.read_csv('../code/wilde_final/w_100_W.csv', sep=\"|\", encoding=\"utf-8\")\n",
    "w_100_S=pd.read_csv('../code/wilde_final/w_100_S.csv', sep=\"|\", encoding=\"utf-8\")"
   ]
  },
  {
   "cell_type": "code",
   "execution_count": 6,
   "metadata": {
    "collapsed": false
   },
   "outputs": [],
   "source": [
    "c_1k_H=pd.read_csv('../code/lincoln_final/c_1k_H.csv', sep=\"|\", encoding=\"utf-8\")\n",
    "c_1k_W=pd.read_csv('../code/lincoln_final/c_1k_W.csv', sep=\"|\", encoding=\"utf-8\")\n",
    "c_1k_S=pd.read_csv('../code/lincoln_final/c_1k_S.csv', sep=\"|\", encoding=\"utf-8\")\n",
    "c_500_H=pd.read_csv('../code/lincoln_final/c_500_H.csv', sep=\"|\", encoding=\"utf-8\")\n",
    "c_500_W=pd.read_csv('../code/lincoln_final/c_500_W.csv', sep=\"|\", encoding=\"utf-8\")\n",
    "c_500_S=pd.read_csv('../code/lincoln_final/c_500_S.csv', sep=\"|\", encoding=\"utf-8\")\n",
    "c_100_H=pd.read_csv('../code/lincoln_final/c_100_H.csv', sep=\"|\", encoding=\"utf-8\")\n",
    "c_100_W=pd.read_csv('../code/lincoln_final/c_100_W.csv', sep=\"|\", encoding=\"utf-8\")\n",
    "c_100_S=pd.read_csv('../code/lincoln_final/c_100_S.csv', sep=\"|\", encoding=\"utf-8\")"
   ]
  },
  {
   "cell_type": "code",
   "execution_count": 9,
   "metadata": {
    "collapsed": true
   },
   "outputs": [],
   "source": [
    "m_1k_H =pd.read_csv('../code/mod_final/m_1k_H.csv', sep=\"|\", encoding=\"utf-8\")\n",
    "m_1k_W =pd.read_csv('../code/mod_final/m_1k_W.csv', sep=\"|\", encoding=\"utf-8\")\n",
    "m_1k_S =pd.read_csv('../code/mod_final/m_1k_S.csv', sep=\"|\", encoding=\"utf-8\")\n",
    "m_500_H =pd.read_csv('../code/mod_final/m_500_H.csv', sep=\"|\", encoding=\"utf-8\")\n",
    "m_500_W =pd.read_csv('../code/mod_final/m_500_W.csv', sep=\"|\", encoding=\"utf-8\")\n",
    "m_500_S =pd.read_csv('../code/mod_final/m_500_S.csv', sep=\"|\", encoding=\"utf-8\")\n",
    "m_100_H =pd.read_csv('../code/mod_final/m_100_H.csv', sep=\"|\", encoding=\"utf-8\")\n",
    "m_100_W =pd.read_csv('../code/mod_final/m_100_W.csv', sep=\"|\", encoding=\"utf-8\")\n",
    "m_100_S =pd.read_csv('../code/mod_final/m_100_S.csv', sep=\"|\", encoding=\"utf-8\")"
   ]
  },
  {
   "cell_type": "code",
   "execution_count": 10,
   "metadata": {
    "collapsed": false
   },
   "outputs": [],
   "source": [
    "H_1k = [t_1k_H, w_1k_H, c_1k_H, m_1k_H]"
   ]
  },
  {
   "cell_type": "code",
   "execution_count": 11,
   "metadata": {
    "collapsed": false
   },
   "outputs": [],
   "source": [
    "df_1k_H = pd.concat(H_1k)\n",
    "\n",
    "df_1k_H.reset_index(inplace=True)"
   ]
  },
  {
   "cell_type": "code",
   "execution_count": 12,
   "metadata": {
    "collapsed": false
   },
   "outputs": [],
   "source": [
    "df_1k_H.drop(['index', 'Unnamed: 0'], axis=1, inplace=True)"
   ]
  },
  {
   "cell_type": "code",
   "execution_count": 13,
   "metadata": {
    "collapsed": true
   },
   "outputs": [],
   "source": [
    "W_1k = [t_1k_W, w_1k_W, c_1k_W, m_1k_W]\n",
    "S_1k = [t_1k_S, w_1k_S, c_1k_S, m_1k_S]\n",
    "H_500 = [t_500_H, w_500_H, c_500_H, m_500_H]\n",
    "W_500 = [t_500_W, w_500_W, c_500_W, m_500_W]\n",
    "S_500 = [t_500_S, w_500_S, c_500_S, m_500_S]\n",
    "H_100 = [t_100_H, w_100_H, c_100_H, m_100_H]\n",
    "W_100 = [t_100_W, w_100_W, c_100_W, m_100_W]\n",
    "S_100 = [t_100_S, w_100_S, c_100_S, m_100_S]"
   ]
  },
  {
   "cell_type": "code",
   "execution_count": 14,
   "metadata": {
    "collapsed": true
   },
   "outputs": [],
   "source": [
    "df_1k_W = pd.concat(W_1k)\n",
    "df_1k_W.reset_index(inplace=True)\n",
    "df_1k_S = pd.concat(S_1k)\n",
    "df_1k_S.reset_index(inplace=True)\n",
    "df_500_H = pd.concat(H_500)\n",
    "df_500_H.reset_index(inplace=True)\n",
    "df_500_W = pd.concat(W_500)\n",
    "df_500_W.reset_index(inplace=True)\n",
    "df_500_S = pd.concat(S_500)\n",
    "df_500_S.reset_index(inplace=True)\n",
    "df_100_H = pd.concat(H_100)\n",
    "df_100_H.reset_index(inplace=True)\n",
    "df_100_W = pd.concat(W_100)\n",
    "df_100_W.reset_index(inplace=True)\n",
    "df_100_S = pd.concat(S_100)\n",
    "df_100_S.reset_index(inplace=True)"
   ]
  },
  {
   "cell_type": "code",
   "execution_count": null,
   "metadata": {
    "collapsed": true
   },
   "outputs": [],
   "source": [
    "# # Add in the moderns!\n",
    "# df_1k_H = df_1k_H.append(m_1k_H)\n",
    "# df_1k_W = df_1k_W.append(m_1k_W)\n",
    "# df_1k_S = df_1k_S.append(m_1k_S)\n",
    "# df_500_H = df_500_H.append(m_500_H)\n",
    "# df_500_W = df_500_W.append(m_500_W)\n",
    "# df_500_S = df_500_S.append(m_500_S)\n",
    "# df_100_H = df_100_H.append(m_100_H)\n",
    "# df_100_W = df_100_W.append(m_100_W)\n",
    "# df_100_S = df_100_S.append(m_100_S)"
   ]
  },
  {
   "cell_type": "code",
   "execution_count": 16,
   "metadata": {
    "collapsed": false
   },
   "outputs": [
    {
     "data": {
      "text/plain": [
       "3.0      1001\n",
       "2.0      1001\n",
       "1.0      1001\n",
       "100.0     997\n",
       "Name: code, dtype: int64"
      ]
     },
     "execution_count": 16,
     "metadata": {},
     "output_type": "execute_result"
    }
   ],
   "source": [
    "df_1k_H.code.value_counts()\n"
   ]
  },
  {
   "cell_type": "code",
   "execution_count": 17,
   "metadata": {
    "collapsed": false
   },
   "outputs": [],
   "source": [
    "df_1k_W.head()\n",
    "df_1k_W.drop(['Unnamed: 0', 'index'], axis=1, inplace=True)"
   ]
  },
  {
   "cell_type": "code",
   "execution_count": 18,
   "metadata": {
    "collapsed": false
   },
   "outputs": [],
   "source": [
    "df_1k_S.head()\n",
    "df_1k_S.drop(['Unnamed: 0', 'index'], axis=1, inplace=True)"
   ]
  },
  {
   "cell_type": "code",
   "execution_count": 20,
   "metadata": {
    "collapsed": false
   },
   "outputs": [],
   "source": [
    "df_500_H.head()\n",
    "df_500_H.drop(['Unnamed: 0', 'index'], axis=1, inplace=True)"
   ]
  },
  {
   "cell_type": "code",
   "execution_count": 21,
   "metadata": {
    "collapsed": false
   },
   "outputs": [
    {
     "data": {
      "text/html": [
       "<div>\n",
       "<table border=\"1\" class=\"dataframe\">\n",
       "  <thead>\n",
       "    <tr style=\"text-align: right;\">\n",
       "      <th></th>\n",
       "      <th>0</th>\n",
       "      <th>code</th>\n",
       "    </tr>\n",
       "  </thead>\n",
       "  <tbody>\n",
       "    <tr>\n",
       "      <th>0</th>\n",
       "      <td>[This, book, is, a, record, of, a, pleasure, t...</td>\n",
       "      <td>1</td>\n",
       "    </tr>\n",
       "    <tr>\n",
       "      <th>1</th>\n",
       "      <td>[year, ., A, good, many, expedients, were, res...</td>\n",
       "      <td>1</td>\n",
       "    </tr>\n",
       "    <tr>\n",
       "      <th>2</th>\n",
       "      <td>[We, got, plenty, of, fresh, oranges, ,, lemon...</td>\n",
       "      <td>1</td>\n",
       "    </tr>\n",
       "    <tr>\n",
       "      <th>3</th>\n",
       "      <td>[has, been, mentioned, in, history, for, three...</td>\n",
       "      <td>1</td>\n",
       "    </tr>\n",
       "    <tr>\n",
       "      <th>4</th>\n",
       "      <td>[but, this, thing, of, having, to, ring, for, ...</td>\n",
       "      <td>1</td>\n",
       "    </tr>\n",
       "  </tbody>\n",
       "</table>\n",
       "</div>"
      ],
      "text/plain": [
       "                                                   0  code\n",
       "0  [This, book, is, a, record, of, a, pleasure, t...     1\n",
       "1  [year, ., A, good, many, expedients, were, res...     1\n",
       "2  [We, got, plenty, of, fresh, oranges, ,, lemon...     1\n",
       "3  [has, been, mentioned, in, history, for, three...     1\n",
       "4  [but, this, thing, of, having, to, ring, for, ...     1"
      ]
     },
     "execution_count": 21,
     "metadata": {},
     "output_type": "execute_result"
    }
   ],
   "source": [
    "df_500_W.drop(['index', 'Unnamed: 0'], axis=1, inplace=True)\n",
    "df_500_W.head()\n"
   ]
  },
  {
   "cell_type": "code",
   "execution_count": 22,
   "metadata": {
    "collapsed": false
   },
   "outputs": [],
   "source": [
    "df_500_S.head()\n",
    "df_500_S.drop(['Unnamed: 0', 'index'], axis=1, inplace=True)"
   ]
  },
  {
   "cell_type": "code",
   "execution_count": 23,
   "metadata": {
    "collapsed": false
   },
   "outputs": [],
   "source": [
    "df_100_H.head()\n",
    "df_100_H.drop(['Unnamed: 0', 'index'], axis=1, inplace=True)"
   ]
  },
  {
   "cell_type": "code",
   "execution_count": 25,
   "metadata": {
    "collapsed": false
   },
   "outputs": [],
   "source": [
    "df_100_W.head()\n",
    "df_100_W.drop(['Unnamed: 0', 'index'], axis=1, inplace=True)"
   ]
  },
  {
   "cell_type": "code",
   "execution_count": 26,
   "metadata": {
    "collapsed": false
   },
   "outputs": [],
   "source": [
    "df_100_S.head()\n",
    "df_100_S.drop(['Unnamed: 0', 'index'], axis=1, inplace=True)"
   ]
  },
  {
   "cell_type": "code",
   "execution_count": 27,
   "metadata": {
    "collapsed": false
   },
   "outputs": [
    {
     "data": {
      "text/html": [
       "<div>\n",
       "<table border=\"1\" class=\"dataframe\">\n",
       "  <thead>\n",
       "    <tr style=\"text-align: right;\">\n",
       "      <th></th>\n",
       "      <th>0</th>\n",
       "      <th>code</th>\n",
       "    </tr>\n",
       "  </thead>\n",
       "  <tbody>\n",
       "    <tr>\n",
       "      <th>3953</th>\n",
       "      <td>sign like unto watches  and maybe bananas  and...</td>\n",
       "      <td>NaN</td>\n",
       "    </tr>\n",
       "    <tr>\n",
       "      <th>3954</th>\n",
       "      <td>100</td>\n",
       "      <td>NaN</td>\n",
       "    </tr>\n",
       "    <tr>\n",
       "      <th>3968</th>\n",
       "      <td>packed court room!</td>\n",
       "      <td>NaN</td>\n",
       "    </tr>\n",
       "    <tr>\n",
       "      <th>3969</th>\n",
       "      <td>100</td>\n",
       "      <td>NaN</td>\n",
       "    </tr>\n",
       "    <tr>\n",
       "      <th>3973</th>\n",
       "      <td>office in 1982  not so much.</td>\n",
       "      <td>NaN</td>\n",
       "    </tr>\n",
       "    <tr>\n",
       "      <th>3974</th>\n",
       "      <td>100</td>\n",
       "      <td>NaN</td>\n",
       "    </tr>\n",
       "    <tr>\n",
       "      <th>4000</th>\n",
       "      <td>cably landed a rent-controlled corner unit.   ...</td>\n",
       "      <td>NaN</td>\n",
       "    </tr>\n",
       "    <tr>\n",
       "      <th>4001</th>\n",
       "      <td>100</td>\n",
       "      <td>NaN</td>\n",
       "    </tr>\n",
       "  </tbody>\n",
       "</table>\n",
       "</div>"
      ],
      "text/plain": [
       "                                                      0  code\n",
       "3953  sign like unto watches  and maybe bananas  and...   NaN\n",
       "3954                                                100   NaN\n",
       "3968                 packed court room!                   NaN\n",
       "3969                                                100   NaN\n",
       "3973        office in 1982  not so much.                  NaN\n",
       "3974                                                100   NaN\n",
       "4000  cably landed a rent-controlled corner unit.   ...   NaN\n",
       "4001                                                100   NaN"
      ]
     },
     "execution_count": 27,
     "metadata": {},
     "output_type": "execute_result"
    }
   ],
   "source": [
    "df_1k_H[df_1k_H.code.isnull()]"
   ]
  },
  {
   "cell_type": "code",
   "execution_count": 28,
   "metadata": {
    "collapsed": true
   },
   "outputs": [],
   "source": [
    "df_1k_H.code.fillna(value=100, inplace=True)"
   ]
  },
  {
   "cell_type": "code",
   "execution_count": 29,
   "metadata": {
    "collapsed": false
   },
   "outputs": [],
   "source": [
    "df_500_H['0'].fillna(value=100, inplace=True)"
   ]
  },
  {
   "cell_type": "code",
   "execution_count": 30,
   "metadata": {
    "collapsed": true
   },
   "outputs": [],
   "source": [
    "df_500_H.code.fillna(value=100, inplace=True)"
   ]
  },
  {
   "cell_type": "code",
   "execution_count": 31,
   "metadata": {
    "collapsed": false
   },
   "outputs": [],
   "source": [
    "df_100_H.code.fillna(value=100, inplace=True)"
   ]
  },
  {
   "cell_type": "code",
   "execution_count": 32,
   "metadata": {
    "collapsed": true
   },
   "outputs": [],
   "source": [
    "df_100_H['0'].fillna(value=\"NA\", inplace=True)"
   ]
  },
  {
   "cell_type": "code",
   "execution_count": 33,
   "metadata": {
    "collapsed": true
   },
   "outputs": [],
   "source": [
    "X_en = df_1k_H['0'].values # 1000 observations at the character level\n",
    "y_en = df_1k_H['code'].values"
   ]
  },
  {
   "cell_type": "code",
   "execution_count": 34,
   "metadata": {
    "collapsed": true
   },
   "outputs": [],
   "source": [
    "X_2 = df_1k_W['0'].values # 1000 observations at the word level\n",
    "y_2 = df_1k_W['code'].values"
   ]
  },
  {
   "cell_type": "code",
   "execution_count": 35,
   "metadata": {
    "collapsed": true
   },
   "outputs": [],
   "source": [
    "X_3 = df_1k_S['0'].values # 1000 observations at the sentence level\n",
    "y_3 = df_1k_S['code'].values"
   ]
  },
  {
   "cell_type": "code",
   "execution_count": 36,
   "metadata": {
    "collapsed": true
   },
   "outputs": [],
   "source": [
    "X_4 = df_500_H['0'].values # 500 observations at the character level\n",
    "y_4 = df_500_H['code'].values"
   ]
  },
  {
   "cell_type": "code",
   "execution_count": 37,
   "metadata": {
    "collapsed": true
   },
   "outputs": [],
   "source": [
    "X_5 = df_500_W['0'].values # 500 observations at the word level\n",
    "y_5 = df_500_W['code'].values"
   ]
  },
  {
   "cell_type": "code",
   "execution_count": 38,
   "metadata": {
    "collapsed": true
   },
   "outputs": [],
   "source": [
    "X_6 = df_500_S['0'].values # 500 observations at the sentence level\n",
    "y_6 = df_500_S['code'].values"
   ]
  },
  {
   "cell_type": "code",
   "execution_count": 39,
   "metadata": {
    "collapsed": true
   },
   "outputs": [],
   "source": [
    "X_7 = df_100_H['0'].values # 100 observations at the character level\n",
    "y_7 = df_100_H['code'].values"
   ]
  },
  {
   "cell_type": "code",
   "execution_count": 40,
   "metadata": {
    "collapsed": true
   },
   "outputs": [],
   "source": [
    "X_8 = df_100_W['0'].values # 100 observations at the word level\n",
    "y_8 = df_100_W['code'].values"
   ]
  },
  {
   "cell_type": "code",
   "execution_count": 41,
   "metadata": {
    "collapsed": true
   },
   "outputs": [],
   "source": [
    "X_9 = df_100_S['0'].values # 100 observations at the sentence level\n",
    "y_9 = df_100_S['code'].values"
   ]
  },
  {
   "cell_type": "markdown",
   "metadata": {},
   "source": [
    "There has got to have been a better way to do that. But who has time to save time?"
   ]
  },
  {
   "cell_type": "code",
   "execution_count": 76,
   "metadata": {
    "collapsed": false
   },
   "outputs": [],
   "source": [
    "results_df = pd.DataFrame(columns=['pair', 'vec', 'features', 'model', 'm_acc', 'm_prec'])"
   ]
  },
  {
   "cell_type": "code",
   "execution_count": 88,
   "metadata": {
    "collapsed": false
   },
   "outputs": [
    {
     "data": {
      "text/html": [
       "<div>\n",
       "<table border=\"1\" class=\"dataframe\">\n",
       "  <thead>\n",
       "    <tr style=\"text-align: right;\">\n",
       "      <th></th>\n",
       "      <th>pair</th>\n",
       "      <th>vec</th>\n",
       "      <th>features</th>\n",
       "      <th>model</th>\n",
       "      <th>m_acc</th>\n",
       "      <th>m_prec</th>\n",
       "    </tr>\n",
       "  </thead>\n",
       "  <tbody>\n",
       "    <tr>\n",
       "      <th>0</th>\n",
       "      <td>1</td>\n",
       "      <td>cvec_W</td>\n",
       "      <td>49039.2</td>\n",
       "      <td>nb</td>\n",
       "      <td>0.806318</td>\n",
       "      <td>0.859797</td>\n",
       "    </tr>\n",
       "  </tbody>\n",
       "</table>\n",
       "</div>"
      ],
      "text/plain": [
       "  pair     vec  features model     m_acc    m_prec\n",
       "0    1  cvec_W   49039.2    nb  0.806318  0.859797"
      ]
     },
     "execution_count": 88,
     "metadata": {},
     "output_type": "execute_result"
    }
   ],
   "source": [
    "results_df"
   ]
  },
  {
   "cell_type": "code",
   "execution_count": 94,
   "metadata": {
    "collapsed": false
   },
   "outputs": [],
   "source": [
    "def vec_test(vect, X, y, pair, vec):\n",
    "    i = 0\n",
    "    res = []\n",
    "    accl = []\n",
    "    precl = []\n",
    "    featl = []\n",
    "    while i <= 4:\n",
    "        X_train, X_test, y_train, y_test = train_test_split(X, y, test_size=.3) #random_state=42)\n",
    "        X_train_dtm = vect.fit_transform(X_train)\n",
    "        #X_vec = vect.fit_transform(X)\n",
    "        feat = X_train_dtm.shape[1]\n",
    "        #print 'Features: ', feat\n",
    "        featl.append(feat)\n",
    "        X_test_dtm = vect.transform(X_test)\n",
    "        nb = MultinomialNB()\n",
    "        nb.fit(X_train_dtm, y_train)\n",
    "        y_pred_class = nb.predict(X_test_dtm)\n",
    "        acc = accuracy_score(y_test, y_pred_class)\n",
    "        prec = precision_score(y_test, y_pred_class, average='weighted')\n",
    "        accl.append(acc)\n",
    "        precl.append(prec)\n",
    "        #print 'Accuracy: ', acc\n",
    "        #print 'Precision: ', prec\n",
    "        #cm = confusion_matrix(y_test, y_pred_class)\n",
    "        #cvc = pd.DataFrame(cm, columns=(nb.classes_), index=(nb.classes_))\n",
    "        #print cvc\n",
    "        #print\n",
    "        i += 1\n",
    "\n",
    "    mean_f = np.mean(featl)\n",
    "    print \"Mean Features: \", mean_f\n",
    "    mean_a = np.mean(accl)\n",
    "    print \"Mean Accuracy: \", mean_a\n",
    "    mean_p = np.mean(precl)\n",
    "    print \"Mean Precision: \", mean_p\n",
    "    \n",
    "    test_results = {}\n",
    "    test_results['pair'] = pair\n",
    "    test_results['vec'] = vec\n",
    "    test_results['features'] = mean_f\n",
    "    test_results['model'] = 'nb'\n",
    "    test_results['m_acc'] = mean_a\n",
    "    test_results['m_prec'] = mean_p \n",
    "    \n",
    "    return test_results\n",
    "\n",
    "#     res.append([pair, vec, mean_f, 'NB', mean_a, mean_p])\n",
    "#     print res\n",
    "#     r = pd.Series(res)\n",
    "#     print r\n",
    "#     results_df.append(r, ignore_index=True)\n",
    "#     return results_df\n",
    "    print\n",
    "    #print cvc"
   ]
  },
  {
   "cell_type": "code",
   "execution_count": 79,
   "metadata": {
    "collapsed": true
   },
   "outputs": [],
   "source": [
    "cvec_W = CountVectorizer(decode_error='ignore') # single-word count vectorizer"
   ]
  },
  {
   "cell_type": "code",
   "execution_count": 95,
   "metadata": {
    "collapsed": false
   },
   "outputs": [
    {
     "name": "stdout",
     "output_type": "stream",
     "text": [
      "Mean Features:  49180.0\n",
      "Mean Accuracy:  0.800332502078\n",
      "Mean Precision:  0.857808112028\n"
     ]
    }
   ],
   "source": [
    "en = vec_test(cvec_W, X_en, y_en, '1', 'cvec_W')\n",
    "results_df = results_df.append(en, ignore_index=True)"
   ]
  },
  {
   "cell_type": "code",
   "execution_count": 96,
   "metadata": {
    "collapsed": false
   },
   "outputs": [
    {
     "name": "stdout",
     "output_type": "stream",
     "text": [
      "Mean Features:  18492.0\n",
      "Mean Accuracy:  0.859517871987\n",
      "Mean Precision:  0.873824598336\n"
     ]
    }
   ],
   "source": [
    "di = vec_test(cvec_W, X_2, y_2, '2', 'cvec_W')\n",
    "results_df = results_df.append(di, ignore_index=True)"
   ]
  },
  {
   "cell_type": "code",
   "execution_count": 97,
   "metadata": {
    "collapsed": false
   },
   "outputs": [
    {
     "name": "stdout",
     "output_type": "stream",
     "text": [
      "Mean Features:  44811.8\n",
      "Mean Accuracy:  0.79837000815\n",
      "Mean Precision:  0.857708095107\n"
     ]
    }
   ],
   "source": [
    "tria  = vec_test(cvec_W, X_3, y_3, '3', 'cvec_W')\n",
    "results_df = results_df.append(tria, ignore_index=True)"
   ]
  },
  {
   "cell_type": "code",
   "execution_count": 98,
   "metadata": {
    "collapsed": false
   },
   "outputs": [
    {
     "name": "stdout",
     "output_type": "stream",
     "text": [
      "Mean Features:  48606.0\n",
      "Mean Accuracy:  0.803316749585\n",
      "Mean Precision:  0.862058959518\n"
     ]
    }
   ],
   "source": [
    "quat = vec_test(cvec_W, X_4, y_4, '4', 'cvec_W')\n",
    "results_df = results_df.append(quat, ignore_index=True)"
   ]
  },
  {
   "cell_type": "code",
   "execution_count": 99,
   "metadata": {
    "collapsed": false
   },
   "outputs": [
    {
     "name": "stdout",
     "output_type": "stream",
     "text": [
      "Mean Features:  13779.2\n",
      "Mean Accuracy:  0.857475083056\n",
      "Mean Precision:  0.866486666602\n"
     ]
    }
   ],
   "source": [
    "tst = vec_test(cvec_W, X_5, y_5, '5', 'cvec_W')\n",
    "results_df = results_df.append(tst, ignore_index=True)"
   ]
  },
  {
   "cell_type": "code",
   "execution_count": 100,
   "metadata": {
    "collapsed": false
   },
   "outputs": [
    {
     "name": "stdout",
     "output_type": "stream",
     "text": [
      "Mean Features:  38499.8\n",
      "Mean Accuracy:  0.843092105263\n",
      "Mean Precision:  0.888753896627\n"
     ]
    }
   ],
   "source": [
    "tst = vec_test(cvec_W, X_6, y_6, '6', 'cvec_W')\n",
    "results_df = results_df.append(tst, ignore_index=True)"
   ]
  },
  {
   "cell_type": "code",
   "execution_count": 101,
   "metadata": {
    "collapsed": false
   },
   "outputs": [
    {
     "name": "stdout",
     "output_type": "stream",
     "text": [
      "Mean Features:  47674.6\n",
      "Mean Accuracy:  0.790243902439\n",
      "Mean Precision:  0.875107580245\n"
     ]
    }
   ],
   "source": [
    "tst = vec_test(cvec_W, X_7, y_7, '7', 'cvec_W')\n",
    "results_df = results_df.append(tst, ignore_index=True)"
   ]
  },
  {
   "cell_type": "code",
   "execution_count": 102,
   "metadata": {
    "collapsed": false
   },
   "outputs": [
    {
     "name": "stdout",
     "output_type": "stream",
     "text": [
      "Mean Features:  5226.0\n",
      "Mean Accuracy:  0.681967213115\n",
      "Mean Precision:  0.760223750877\n"
     ]
    }
   ],
   "source": [
    "tst = vec_test(cvec_W, X_8, y_8, '8', 'cvec_W')\n",
    "results_df = results_df.append(tst, ignore_index=True)"
   ]
  },
  {
   "cell_type": "code",
   "execution_count": 103,
   "metadata": {
    "collapsed": false
   },
   "outputs": [
    {
     "name": "stdout",
     "output_type": "stream",
     "text": [
      "Mean Features:  23832.2\n",
      "Mean Accuracy:  0.867213114754\n",
      "Mean Precision:  0.905979529634\n"
     ]
    }
   ],
   "source": [
    "tst = vec_test(cvec_W, X_9, y_9, '9', 'cvec_W') # mean precision of .9155\n",
    "results_df = results_df.append(tst, ignore_index=True)"
   ]
  },
  {
   "cell_type": "code",
   "execution_count": 104,
   "metadata": {
    "collapsed": true
   },
   "outputs": [],
   "source": [
    "cvec_WS = CountVectorizer(decode_error='ignore', stop_words='english') # "
   ]
  },
  {
   "cell_type": "code",
   "execution_count": 105,
   "metadata": {
    "collapsed": false
   },
   "outputs": [
    {
     "name": "stdout",
     "output_type": "stream",
     "text": [
      "Mean Features:  48837.6\n",
      "Mean Accuracy:  0.843724023275\n",
      "Mean Precision:  0.886007139175\n"
     ]
    }
   ],
   "source": [
    "tst = vec_test(cvec_WS, X_en, y_en, '1', 'cvec_WS')\n",
    "results_df = results_df.append(tst, ignore_index=True)"
   ]
  },
  {
   "cell_type": "code",
   "execution_count": 106,
   "metadata": {
    "collapsed": false
   },
   "outputs": [
    {
     "name": "stdout",
     "output_type": "stream",
     "text": [
      "Mean Features:  18116.4\n",
      "Mean Accuracy:  0.89991687448\n",
      "Mean Precision:  0.903613486754\n"
     ]
    }
   ],
   "source": [
    "tst = vec_test(cvec_WS, X_2, y_2, '2', 'cvec_WS') # .91 accuracy score\n",
    "results_df = results_df.append(tst, ignore_index=True)"
   ]
  },
  {
   "cell_type": "code",
   "execution_count": 107,
   "metadata": {
    "collapsed": false
   },
   "outputs": [
    {
     "name": "stdout",
     "output_type": "stream",
     "text": [
      "Mean Features:  44681.4\n",
      "Mean Accuracy:  0.854115729421\n",
      "Mean Precision:  0.894663718758\n"
     ]
    }
   ],
   "source": [
    "tst = vec_test(cvec_WS, X_3, y_3, '3', 'cvec_WS')\n",
    "results_df = results_df.append(tst, ignore_index=True)"
   ]
  },
  {
   "cell_type": "code",
   "execution_count": 108,
   "metadata": {
    "collapsed": false
   },
   "outputs": [
    {
     "name": "stdout",
     "output_type": "stream",
     "text": [
      "Mean Features:  48410.4\n",
      "Mean Accuracy:  0.842786069652\n",
      "Mean Precision:  0.89223454547\n"
     ]
    }
   ],
   "source": [
    "tst = vec_test(cvec_WS, X_4, y_4, '4', 'cvec_WS')\n",
    "results_df = results_df.append(tst, ignore_index=True)"
   ]
  },
  {
   "cell_type": "code",
   "execution_count": 109,
   "metadata": {
    "collapsed": false
   },
   "outputs": [
    {
     "name": "stdout",
     "output_type": "stream",
     "text": [
      "Mean Features:  13454.0\n",
      "Mean Accuracy:  0.883056478405\n",
      "Mean Precision:  0.88514299893\n"
     ]
    }
   ],
   "source": [
    "tst = vec_test(cvec_WS, X_5, y_5, '5', 'cvec_WS')\n",
    "results_df = results_df.append(tst, ignore_index=True)"
   ]
  },
  {
   "cell_type": "code",
   "execution_count": 110,
   "metadata": {
    "collapsed": false
   },
   "outputs": [
    {
     "name": "stdout",
     "output_type": "stream",
     "text": [
      "Mean Features:  38277.0\n",
      "Mean Accuracy:  0.875328947368\n",
      "Mean Precision:  0.909768062989\n"
     ]
    }
   ],
   "source": [
    "tst = vec_test(cvec_WS, X_6, y_6, '6', 'cvec_WS')\n",
    "results_df = results_df.append(tst, ignore_index=True)"
   ]
  },
  {
   "cell_type": "code",
   "execution_count": 111,
   "metadata": {
    "collapsed": false
   },
   "outputs": [
    {
     "name": "stdout",
     "output_type": "stream",
     "text": [
      "Mean Features:  47675.2\n",
      "Mean Accuracy:  0.80325203252\n",
      "Mean Precision:  0.877519356502\n"
     ]
    }
   ],
   "source": [
    "tst = vec_test(cvec_WS, X_7, y_7, '7', 'cvec_WS')\n",
    "results_df = results_df.append(tst, ignore_index=True)"
   ]
  },
  {
   "cell_type": "code",
   "execution_count": 112,
   "metadata": {
    "collapsed": false
   },
   "outputs": [
    {
     "name": "stdout",
     "output_type": "stream",
     "text": [
      "Mean Features:  4919.0\n",
      "Mean Accuracy:  0.740983606557\n",
      "Mean Precision:  0.752112295122\n"
     ]
    }
   ],
   "source": [
    "tst = vec_test(cvec_WS, X_8, y_8, '8', 'cvec_WS')\n",
    "results_df = results_df.append(tst, ignore_index=True)"
   ]
  },
  {
   "cell_type": "code",
   "execution_count": 113,
   "metadata": {
    "collapsed": false
   },
   "outputs": [
    {
     "name": "stdout",
     "output_type": "stream",
     "text": [
      "Mean Features:  23175.0\n",
      "Mean Accuracy:  0.944262295082\n",
      "Mean Precision:  0.954657397818\n"
     ]
    }
   ],
   "source": [
    "tst = vec_test(cvec_WS, X_9, y_9, '9', 'cvec_WS') # .90 accuracy score\n",
    "results_df = results_df.append(tst, ignore_index=True)"
   ]
  },
  {
   "cell_type": "code",
   "execution_count": 115,
   "metadata": {
    "collapsed": false
   },
   "outputs": [],
   "source": [
    "cvec_WS2 = CountVectorizer(decode_error='ignore', stop_words='english', ngram_range=(2,2))"
   ]
  },
  {
   "cell_type": "code",
   "execution_count": 116,
   "metadata": {
    "collapsed": false
   },
   "outputs": [
    {
     "name": "stdout",
     "output_type": "stream",
     "text": [
      "Mean Features:  825105.0\n",
      "Mean Accuracy:  0.837240232751\n",
      "Mean Precision:  0.878733518392\n"
     ]
    }
   ],
   "source": [
    "tst = vec_test(cvec_WS2, X_en, y_en, '1', 'cvec_WS2')\n",
    "results_df = results_df.append(tst, ignore_index=True)"
   ]
  },
  {
   "cell_type": "code",
   "execution_count": 117,
   "metadata": {
    "collapsed": false
   },
   "outputs": [
    {
     "name": "stdout",
     "output_type": "stream",
     "text": [
      "Mean Features:  83932.8\n",
      "Mean Accuracy:  0.700581878637\n",
      "Mean Precision:  0.717825547976\n"
     ]
    }
   ],
   "source": [
    "tst = vec_test(cvec_WS2, X_2, y_2, '2', 'cvec_WS2')\n",
    "results_df = results_df.append(tst, ignore_index=True)"
   ]
  },
  {
   "cell_type": "code",
   "execution_count": 118,
   "metadata": {
    "collapsed": false
   },
   "outputs": [
    {
     "name": "stdout",
     "output_type": "stream",
     "text": [
      "Mean Features:  685187.2\n",
      "Mean Accuracy:  0.847106764466\n",
      "Mean Precision:  0.88456285542\n"
     ]
    }
   ],
   "source": [
    "tst = vec_test(cvec_WS2, X_3, y_3, '3', 'cvec_WS2')\n",
    "results_df = results_df.append(tst, ignore_index=True)"
   ]
  },
  {
   "cell_type": "code",
   "execution_count": 121,
   "metadata": {
    "collapsed": false
   },
   "outputs": [
    {
     "name": "stdout",
     "output_type": "stream",
     "text": [
      "Mean Features:  835329.4\n",
      "Mean Accuracy:  0.835489220564\n",
      "Mean Precision:  0.887371296199\n"
     ]
    }
   ],
   "source": [
    "tst = vec_test(cvec_WS2, X_4, y_4, '4', 'cvec_WS2')\n",
    "results_df = results_df.append(tst, ignore_index=True)"
   ]
  },
  {
   "cell_type": "code",
   "execution_count": 122,
   "metadata": {
    "collapsed": false
   },
   "outputs": [
    {
     "name": "stdout",
     "output_type": "stream",
     "text": [
      "Mean Features:  46897.6\n",
      "Mean Accuracy:  0.660465116279\n",
      "Mean Precision:  0.69620773318\n"
     ]
    }
   ],
   "source": [
    "tst = vec_test(cvec_WS2, X_5, y_5, '5', 'cvec_WS2')\n",
    "results_df = results_df.append(tst, ignore_index=True)"
   ]
  },
  {
   "cell_type": "code",
   "execution_count": 123,
   "metadata": {
    "collapsed": false
   },
   "outputs": [
    {
     "name": "stdout",
     "output_type": "stream",
     "text": [
      "Mean Features:  473908.0\n",
      "Mean Accuracy:  0.883552631579\n",
      "Mean Precision:  0.90712370926\n"
     ]
    }
   ],
   "source": [
    "tst = vec_test(cvec_WS2, X_6, y_6, '6', 'cvec_WS2')\n",
    "results_df = results_df.append(tst, ignore_index=True)"
   ]
  },
  {
   "cell_type": "code",
   "execution_count": 124,
   "metadata": {
    "collapsed": false
   },
   "outputs": [
    {
     "name": "stdout",
     "output_type": "stream",
     "text": [
      "Mean Features:  831814.8\n",
      "Mean Accuracy:  0.847154471545\n",
      "Mean Precision:  0.898063621888\n"
     ]
    }
   ],
   "source": [
    "tst = vec_test(cvec_WS2, X_7, y_7, '7', 'cvec_WS2')\n",
    "results_df = results_df.append(tst, ignore_index=True)"
   ]
  },
  {
   "cell_type": "code",
   "execution_count": 125,
   "metadata": {
    "collapsed": false
   },
   "outputs": [
    {
     "name": "stdout",
     "output_type": "stream",
     "text": [
      "Mean Features:  9661.2\n",
      "Mean Accuracy:  0.46393442623\n",
      "Mean Precision:  0.662600856526\n"
     ]
    }
   ],
   "source": [
    "tst = vec_test(cvec_WS2, X_8, y_8, '8', 'cvec_WS2')\n",
    "results_df = results_df.append(tst, ignore_index=True)"
   ]
  },
  {
   "cell_type": "code",
   "execution_count": 126,
   "metadata": {
    "collapsed": false
   },
   "outputs": [
    {
     "name": "stdout",
     "output_type": "stream",
     "text": [
      "Mean Features:  164078.2\n",
      "Mean Accuracy:  0.954098360656\n",
      "Mean Precision:  0.957898808183\n"
     ]
    }
   ],
   "source": [
    "tst = vec_test(cvec_WS2, X_9, y_9, '9', 'cvec_WS2') # mean precision of .95!\n",
    "results_df = results_df.append(tst, ignore_index=True)"
   ]
  },
  {
   "cell_type": "code",
   "execution_count": 42,
   "metadata": {
    "collapsed": false
   },
   "outputs": [],
   "source": [
    "cvec_NS4 = CountVectorizer(decode_error='ignore', stop_words='english', analyzer='char', ngram_range=(1,4))"
   ]
  },
  {
   "cell_type": "code",
   "execution_count": 456,
   "metadata": {
    "collapsed": false
   },
   "outputs": [
    {
     "name": "stdout",
     "output_type": "stream",
     "text": [
      "Mean Features:  126298.6\n",
      "Mean Accuracy:  0.926289517471\n",
      "Mean Precision:  0.936278363639\n",
      "\n"
     ]
    }
   ],
   "source": [
    "tst = vec_test(cvec_NS4, X_en, y_en, '1', 'cvec_NS4')\n",
    "results_df = results_df.append(tst, ignore_index=True)"
   ]
  },
  {
   "cell_type": "code",
   "execution_count": 457,
   "metadata": {
    "collapsed": false
   },
   "outputs": [
    {
     "name": "stdout",
     "output_type": "stream",
     "text": [
      "Mean Features:  39643.2\n",
      "Mean Accuracy:  0.904239401496\n",
      "Mean Precision:  0.909983724309\n",
      "\n"
     ]
    }
   ],
   "source": [
    "tst = vec_test(cvec_NS4, X_2, y_2, '2', 'cvec_NS4')\n",
    "results_df = results_df.append(tst, ignore_index=True)"
   ]
  },
  {
   "cell_type": "code",
   "execution_count": 458,
   "metadata": {
    "collapsed": false
   },
   "outputs": [
    {
     "name": "stdout",
     "output_type": "stream",
     "text": [
      "Mean Features:  117978.6\n",
      "Mean Accuracy:  0.954034229829\n",
      "Mean Precision:  0.957434243676\n",
      "\n"
     ]
    }
   ],
   "source": [
    "tst = vec_test(cvec_NS4, X_3, y_3, '3', 'cvec_NS4')\n",
    "results_df = results_df.append(tst, ignore_index=True)"
   ]
  },
  {
   "cell_type": "code",
   "execution_count": 459,
   "metadata": {
    "collapsed": false
   },
   "outputs": [
    {
     "name": "stdout",
     "output_type": "stream",
     "text": [
      "Mean Features:  126573.4\n",
      "Mean Accuracy:  0.953897180763\n",
      "Mean Precision:  0.95749557593\n",
      "\n"
     ]
    }
   ],
   "source": [
    "tst = vec_test(cvec_NS4, X_4, y_4, '4', 'cvec_NS4')\n",
    "results_df = results_df.append(tst, ignore_index=True)"
   ]
  },
  {
   "cell_type": "code",
   "execution_count": 460,
   "metadata": {
    "collapsed": false
   },
   "outputs": [
    {
     "name": "stdout",
     "output_type": "stream",
     "text": [
      "Mean Features:  33113.8\n",
      "Mean Accuracy:  0.897009966777\n",
      "Mean Precision:  0.901994298535\n",
      "\n"
     ]
    }
   ],
   "source": [
    "tst = vec_test(cvec_NS4, X_5, y_5, '5', 'cvec_NS4')\n",
    "results_df = results_df.append(tst, ignore_index=True)"
   ]
  },
  {
   "cell_type": "code",
   "execution_count": 461,
   "metadata": {
    "collapsed": false
   },
   "outputs": [
    {
     "name": "stdout",
     "output_type": "stream",
     "text": [
      "Mean Features:  105153.4\n",
      "Mean Accuracy:  0.975328947368\n",
      "Mean Precision:  0.976762740346\n",
      "\n"
     ]
    }
   ],
   "source": [
    "tst = vec_test(cvec_NS4, X_6, y_6, '6', 'cvec_NS4')\n",
    "results_df = results_df.append(tst, ignore_index=True)"
   ]
  },
  {
   "cell_type": "code",
   "execution_count": 462,
   "metadata": {
    "collapsed": false
   },
   "outputs": [
    {
     "name": "stdout",
     "output_type": "stream",
     "text": [
      "Mean Features:  124445.2\n",
      "Mean Accuracy:  0.980487804878\n",
      "Mean Precision:  0.982701178978\n",
      "\n"
     ]
    }
   ],
   "source": [
    "tst = vec_test(cvec_NS4, X_7, y_7, '7', 'cvec_NS4')\n",
    "results_df = results_df.append(tst, ignore_index=True)"
   ]
  },
  {
   "cell_type": "code",
   "execution_count": 463,
   "metadata": {
    "collapsed": false
   },
   "outputs": [
    {
     "name": "stdout",
     "output_type": "stream",
     "text": [
      "Mean Features:  18821.4\n",
      "Mean Accuracy:  0.811475409836\n",
      "Mean Precision:  0.838545973034\n",
      "\n"
     ]
    }
   ],
   "source": [
    "tst = vec_test(cvec_NS4, X_8, y_8, '8', 'cvec_NS4')\n",
    "results_df = results_df.append(tst, ignore_index=True)"
   ]
  },
  {
   "cell_type": "code",
   "execution_count": 464,
   "metadata": {
    "collapsed": false
   },
   "outputs": [
    {
     "name": "stdout",
     "output_type": "stream",
     "text": [
      "Mean Features:  73745.4\n",
      "Mean Accuracy:  0.95737704918\n",
      "Mean Precision:  0.962194670193\n",
      "\n"
     ]
    }
   ],
   "source": [
    "tst = vec_test(cvec_NS4, X_9, y_9, '9', 'cvec_NS4')\n",
    "results_df = results_df.append(tst, ignore_index=True)"
   ]
  },
  {
   "cell_type": "code",
   "execution_count": 120,
   "metadata": {
    "collapsed": false
   },
   "outputs": [],
   "source": [
    "def tvec_test(vect, X, y, pair, vec):\n",
    "    i = 0\n",
    "    res = []\n",
    "    accl = []\n",
    "    precl = []\n",
    "    featl = []\n",
    "    while i <= 4:\n",
    "        X_train, X_test, y_train, y_test = train_test_split(X, y, test_size=.3) #random_state=42)\n",
    "        X_train_dtm = vect.fit_transform(X_train)\n",
    "        #X_vec = vect.fit_transform(X)\n",
    "        feat = X_train_dtm.shape[1]\n",
    "        #print 'Features: ', feat\n",
    "        featl.append(feat)\n",
    "        X_test_dtm = vect.transform(X_test)\n",
    "        nb = MultinomialNB()\n",
    "        nb.fit(X_train_dtm, y_train)\n",
    "        y_pred_class = nb.predict(X_test_dtm)\n",
    "        acc = accuracy_score(y_test, y_pred_class)\n",
    "        prec = precision_score(y_test, y_pred_class, average='weighted')\n",
    "        accl.append(acc)\n",
    "        precl.append(prec)\n",
    "        #print 'Accuracy: ', acc\n",
    "        #print 'Precision: ', prec\n",
    "        #cm = confusion_matrix(y_test, y_pred_class)\n",
    "        #cvc = pd.DataFrame(cm, columns=(nb.classes_), index=(nb.classes_))\n",
    "        #print cvc\n",
    "        #print\n",
    "        i += 1\n",
    "    mean_f = np.mean(featl)\n",
    "    print \"Mean Features: \", mean_f\n",
    "    mean_a = np.mean(accl)\n",
    "    print \"Mean Accuracy: \", mean_a\n",
    "    mean_p = np.mean(precl)\n",
    "    print \"Mean Precision: \", mean_p\n",
    "    res.append([pair, vec, mean_f, 'NB', mean_a, mean_p])\n",
    "    results_df.append(res)\n",
    "    \n",
    "    test_results = {}\n",
    "    test_results['pair'] = pair\n",
    "    test_results['vec'] = vec\n",
    "    test_results['features'] = mean_f\n",
    "    test_results['model'] = 'nb'\n",
    "    test_results['m_acc'] = mean_a\n",
    "    test_results['m_prec'] = mean_p \n",
    "    \n",
    "    return test_results\n",
    "    \n",
    "    print\n",
    "    #print cvc"
   ]
  },
  {
   "cell_type": "code",
   "execution_count": 402,
   "metadata": {
    "collapsed": true
   },
   "outputs": [],
   "source": [
    "tvect = TfidfVectorizer()"
   ]
  },
  {
   "cell_type": "code",
   "execution_count": 403,
   "metadata": {
    "collapsed": false
   },
   "outputs": [
    {
     "name": "stdout",
     "output_type": "stream",
     "text": [
      "Mean Features:  49150.8\n",
      "Mean Accuracy:  0.689351081531\n",
      "Mean Precision:  0.839275774415\n",
      "\n"
     ]
    }
   ],
   "source": [
    "tvec_test(tvect, X_en, y_en, '1', 'tvect')"
   ]
  },
  {
   "cell_type": "code",
   "execution_count": 404,
   "metadata": {
    "collapsed": false
   },
   "outputs": [
    {
     "name": "stdout",
     "output_type": "stream",
     "text": [
      "Mean Features:  18485.4\n",
      "Mean Accuracy:  0.829592684954\n",
      "Mean Precision:  0.852198102024\n",
      "\n"
     ]
    }
   ],
   "source": [
    "tvec_test(tvect, X_2, y_2, '2', 'tvect')"
   ]
  },
  {
   "cell_type": "code",
   "execution_count": 405,
   "metadata": {
    "collapsed": false
   },
   "outputs": [
    {
     "name": "stdout",
     "output_type": "stream",
     "text": [
      "Mean Features:  44949.0\n",
      "Mean Accuracy:  0.701874490628\n",
      "Mean Precision:  0.853103319151\n",
      "\n"
     ]
    }
   ],
   "source": [
    "tvec_test(tvect, X_3, y_3, '1', 'tvect')"
   ]
  },
  {
   "cell_type": "code",
   "execution_count": 406,
   "metadata": {
    "collapsed": false
   },
   "outputs": [
    {
     "name": "stdout",
     "output_type": "stream",
     "text": [
      "Mean Features:  48627.2\n",
      "Mean Accuracy:  0.693532338308\n",
      "Mean Precision:  0.856488790453\n",
      "\n"
     ]
    }
   ],
   "source": [
    "tvec_test(tvect, X_4, y_4, '4', 'tvect')"
   ]
  },
  {
   "cell_type": "code",
   "execution_count": 407,
   "metadata": {
    "collapsed": false
   },
   "outputs": [
    {
     "name": "stdout",
     "output_type": "stream",
     "text": [
      "Mean Features:  13750.2\n",
      "Mean Accuracy:  0.840199335548\n",
      "Mean Precision:  0.857900010483\n",
      "\n"
     ]
    }
   ],
   "source": [
    "tvec_test(tvect, X_5, y_5, '5', 'tvect')"
   ]
  },
  {
   "cell_type": "code",
   "execution_count": 408,
   "metadata": {
    "collapsed": false
   },
   "outputs": [
    {
     "name": "stdout",
     "output_type": "stream",
     "text": [
      "Mean Features:  38659.8\n",
      "Mean Accuracy:  0.712828947368\n",
      "Mean Precision:  0.860671136802\n",
      "\n"
     ]
    }
   ],
   "source": [
    "tvec_test(tvect, X_6, y_6, '6', 'tvect')"
   ]
  },
  {
   "cell_type": "code",
   "execution_count": 409,
   "metadata": {
    "collapsed": false
   },
   "outputs": [
    {
     "name": "stdout",
     "output_type": "stream",
     "text": [
      "Mean Features:  47241.0\n",
      "Mean Accuracy:  0.552845528455\n",
      "Mean Precision:  0.854777274302\n",
      "\n"
     ]
    }
   ],
   "source": [
    "tvec_test(tvect, X_7, y_7, '7', 'tvect')"
   ]
  },
  {
   "cell_type": "code",
   "execution_count": 410,
   "metadata": {
    "collapsed": false
   },
   "outputs": [
    {
     "name": "stdout",
     "output_type": "stream",
     "text": [
      "Mean Features:  5199.0\n",
      "Mean Accuracy:  0.616393442623\n",
      "Mean Precision:  0.733398885255\n",
      "\n"
     ]
    }
   ],
   "source": [
    "tvec_test(tvect, X_8, y_8, '8', 'tvect')"
   ]
  },
  {
   "cell_type": "code",
   "execution_count": 411,
   "metadata": {
    "collapsed": false
   },
   "outputs": [
    {
     "name": "stdout",
     "output_type": "stream",
     "text": [
      "Mean Features:  23319.4\n",
      "Mean Accuracy:  0.596721311475\n",
      "Mean Precision:  0.802658370428\n",
      "\n"
     ]
    }
   ],
   "source": [
    "tvec_test(tvect, X_9, y_9, '9', 'tvect')"
   ]
  },
  {
   "cell_type": "code",
   "execution_count": 413,
   "metadata": {
    "collapsed": false
   },
   "outputs": [],
   "source": [
    "tvec_NS4 = TfidfVectorizer(analyzer='char', stop_words='english', ngram_range=(1, 4))"
   ]
  },
  {
   "cell_type": "code",
   "execution_count": 414,
   "metadata": {
    "collapsed": false
   },
   "outputs": [
    {
     "name": "stdout",
     "output_type": "stream",
     "text": [
      "Mean Features:  126811.8\n",
      "Mean Accuracy:  0.707154742097\n",
      "Mean Precision:  0.81212818111\n",
      "\n"
     ]
    }
   ],
   "source": [
    "tvec_test(tvec_NS4, X_en, y_en, '1', 'tvec_NS4')"
   ]
  },
  {
   "cell_type": "code",
   "execution_count": 415,
   "metadata": {
    "collapsed": false
   },
   "outputs": [
    {
     "name": "stdout",
     "output_type": "stream",
     "text": [
      "Mean Features:  39614.8\n",
      "Mean Accuracy:  0.768911055694\n",
      "Mean Precision:  0.828164658536\n",
      "\n"
     ]
    }
   ],
   "source": [
    "tvec_test(tvec_NS4, X_2, y_2, '2', 'tvec_NS4')"
   ]
  },
  {
   "cell_type": "code",
   "execution_count": 416,
   "metadata": {
    "collapsed": false
   },
   "outputs": [
    {
     "name": "stdout",
     "output_type": "stream",
     "text": [
      "Mean Features:  117813.8\n",
      "Mean Accuracy:  0.769356153219\n",
      "Mean Precision:  0.828239331273\n",
      "\n"
     ]
    }
   ],
   "source": [
    "tvec_test(tvec_NS4, X_3, y_3, '3', 'tvec_NS4')"
   ]
  },
  {
   "cell_type": "code",
   "execution_count": 417,
   "metadata": {
    "collapsed": false
   },
   "outputs": [
    {
     "name": "stdout",
     "output_type": "stream",
     "text": [
      "Mean Features:  127373.6\n",
      "Mean Accuracy:  0.678938640133\n",
      "Mean Precision:  0.836313746792\n",
      "\n"
     ]
    }
   ],
   "source": [
    "tvec_test(tvec_NS4, X_4, y_4, '4', 'tvec_NS4')"
   ]
  },
  {
   "cell_type": "code",
   "execution_count": 418,
   "metadata": {
    "collapsed": false
   },
   "outputs": [
    {
     "name": "stdout",
     "output_type": "stream",
     "text": [
      "Mean Features:  33096.6\n",
      "Mean Accuracy:  0.759468438538\n",
      "Mean Precision:  0.828311319169\n",
      "\n"
     ]
    }
   ],
   "source": [
    "tvec_test(tvec_NS4, X_5, y_5, '5', 'tvec_NS4')"
   ]
  },
  {
   "cell_type": "code",
   "execution_count": 419,
   "metadata": {
    "collapsed": false
   },
   "outputs": [
    {
     "name": "stdout",
     "output_type": "stream",
     "text": [
      "Mean Features:  104977.4\n",
      "Mean Accuracy:  0.777302631579\n",
      "Mean Precision:  0.86088664555\n",
      "\n"
     ]
    }
   ],
   "source": [
    "tvec_test(tvec_NS4, X_6, y_6, '6', 'tvec_NS4')"
   ]
  },
  {
   "cell_type": "code",
   "execution_count": 420,
   "metadata": {
    "collapsed": false
   },
   "outputs": [
    {
     "name": "stdout",
     "output_type": "stream",
     "text": [
      "Mean Features:  125190.4\n",
      "Mean Accuracy:  0.733333333333\n",
      "Mean Precision:  0.786763955646\n",
      "\n"
     ]
    },
    {
     "name": "stderr",
     "output_type": "stream",
     "text": [
      "/Users/charlesrice/anaconda/lib/python2.7/site-packages/sklearn/metrics/classification.py:1074: UndefinedMetricWarning: Precision is ill-defined and being set to 0.0 in labels with no predicted samples.\n",
      "  'precision', 'predicted', average, warn_for)\n"
     ]
    }
   ],
   "source": [
    "tvec_test(tvec_NS4, X_7, y_7, '7', 'tvec_NS4')"
   ]
  },
  {
   "cell_type": "code",
   "execution_count": 421,
   "metadata": {
    "collapsed": false
   },
   "outputs": [
    {
     "name": "stdout",
     "output_type": "stream",
     "text": [
      "Mean Features:  18848.4\n",
      "Mean Accuracy:  0.470491803279\n",
      "Mean Precision:  0.688972774931\n",
      "\n"
     ]
    }
   ],
   "source": [
    "tvec_test(tvec_NS4, X_8, y_8, '8', 'tvec_NS4')"
   ]
  },
  {
   "cell_type": "code",
   "execution_count": 422,
   "metadata": {
    "collapsed": false
   },
   "outputs": [
    {
     "name": "stdout",
     "output_type": "stream",
     "text": [
      "Mean Features:  74449.0\n",
      "Mean Accuracy:  0.504918032787\n",
      "Mean Precision:  0.613958723807\n",
      "\n"
     ]
    }
   ],
   "source": [
    "tvec_test(tvec_NS4, X_9, y_9, '9', 'tvec_NS4')"
   ]
  },
  {
   "cell_type": "markdown",
   "metadata": {
    "collapsed": false
   },
   "source": [
    "# A Wild Data Approaches!"
   ]
  },
  {
   "cell_type": "markdown",
   "metadata": {
    "collapsed": true
   },
   "source": [
    "Having played around with features and variables for most of a day, I'm confident in the naive bayes model, using the 4 character inclusive ngram count vectorizer as the model for success. Although there is further testing to be done on the extant corpora, and refinements that can be made, I would prefer to get it over and done with.\n",
    "\n",
    "Details of the winning model: CVEC NS4, pair 4"
   ]
  },
  {
   "cell_type": "code",
   "execution_count": 44,
   "metadata": {
    "collapsed": true
   },
   "outputs": [],
   "source": [
    "twain_w = pd.read_csv(\"../code/test_quotes/twain_quotes.csv\", encoding=\"utf-8\")\n",
    "\n",
    "twain_w.code.fillna(value='??', inplace=True)"
   ]
  },
  {
   "cell_type": "code",
   "execution_count": 45,
   "metadata": {
    "collapsed": false
   },
   "outputs": [],
   "source": [
    "wilde_quotes = pd.read_csv('../code/test_quotes/wilde_quotes.csv', encoding='utf-8')\n",
    "\n",
    "wilde_quotes.code.fillna(value='??', inplace=True)"
   ]
  },
  {
   "cell_type": "code",
   "execution_count": 46,
   "metadata": {
    "collapsed": false
   },
   "outputs": [
    {
     "data": {
      "text/html": [
       "<div>\n",
       "<table border=\"1\" class=\"dataframe\">\n",
       "  <thead>\n",
       "    <tr style=\"text-align: right;\">\n",
       "      <th></th>\n",
       "      <th>quote</th>\n",
       "      <th>code</th>\n",
       "    </tr>\n",
       "  </thead>\n",
       "  <tbody>\n",
       "    <tr>\n",
       "      <th>0</th>\n",
       "      <td>The best way to predict the future is to creat...</td>\n",
       "      <td>30</td>\n",
       "    </tr>\n",
       "    <tr>\n",
       "      <th>1</th>\n",
       "      <td>I am for those means which will give the great...</td>\n",
       "      <td>3</td>\n",
       "    </tr>\n",
       "    <tr>\n",
       "      <th>2</th>\n",
       "      <td>Having thus chosen our course without guile an...</td>\n",
       "      <td>3</td>\n",
       "    </tr>\n",
       "    <tr>\n",
       "      <th>3</th>\n",
       "      <td>You have to do your own growing no matter how ...</td>\n",
       "      <td>??</td>\n",
       "    </tr>\n",
       "    <tr>\n",
       "      <th>4</th>\n",
       "      <td>I have been driven many times to my knees by t...</td>\n",
       "      <td>??</td>\n",
       "    </tr>\n",
       "  </tbody>\n",
       "</table>\n",
       "</div>"
      ],
      "text/plain": [
       "                                               quote code\n",
       "0  The best way to predict the future is to creat...   30\n",
       "1  I am for those means which will give the great...    3\n",
       "2  Having thus chosen our course without guile an...    3\n",
       "3  You have to do your own growing no matter how ...   ??\n",
       "4  I have been driven many times to my knees by t...   ??"
      ]
     },
     "execution_count": 46,
     "metadata": {},
     "output_type": "execute_result"
    }
   ],
   "source": [
    "lincoln_quotes = pd.read_csv('../code/test_quotes/lincoln_quotes.csv', encoding='utf-8')\n",
    "\n",
    "lincoln_quotes.code.fillna(value='??', inplace=True)\n",
    "\n",
    "lincoln_quotes.head()"
   ]
  },
  {
   "cell_type": "code",
   "execution_count": 47,
   "metadata": {
    "collapsed": true
   },
   "outputs": [],
   "source": [
    "frames = [twain_w, wilde_quotes, lincoln_quotes]\n",
    "\n",
    "wild_data = pd.concat(frames, ignore_index=True)"
   ]
  },
  {
   "cell_type": "code",
   "execution_count": 49,
   "metadata": {
    "collapsed": false
   },
   "outputs": [
    {
     "data": {
      "text/plain": [
       "??      2437\n",
       "30.0      33\n",
       "10.0      32\n",
       "20.0      13\n",
       "2.0        6\n",
       "1.0        5\n",
       "3.0        2\n",
       "Name: code, dtype: int64"
      ]
     },
     "execution_count": 49,
     "metadata": {},
     "output_type": "execute_result"
    }
   ],
   "source": [
    "wild_data # All good!"
   ]
  },
  {
   "cell_type": "code",
   "execution_count": 50,
   "metadata": {
    "collapsed": true
   },
   "outputs": [],
   "source": [
    "cvec_NS4 = CountVectorizer(decode_error='ignore', stop_words='english', analyzer='char', ngram_range=(1,4))"
   ]
  },
  {
   "cell_type": "code",
   "execution_count": 51,
   "metadata": {
    "collapsed": true
   },
   "outputs": [],
   "source": [
    "w_nb = MultinomialNB()\n",
    "\n",
    "w_cvec = cvec_NS4"
   ]
  },
  {
   "cell_type": "code",
   "execution_count": 52,
   "metadata": {
    "collapsed": true
   },
   "outputs": [],
   "source": [
    "X_c_dtm = w_cvec.fit_transform(X_4)"
   ]
  },
  {
   "cell_type": "code",
   "execution_count": 53,
   "metadata": {
    "collapsed": false
   },
   "outputs": [],
   "source": [
    "X_w = wild_data['quote'].values"
   ]
  },
  {
   "cell_type": "code",
   "execution_count": 54,
   "metadata": {
    "collapsed": true
   },
   "outputs": [],
   "source": [
    "X_w_dtm = w_cvec.transform(X_w)"
   ]
  },
  {
   "cell_type": "code",
   "execution_count": 55,
   "metadata": {
    "collapsed": true
   },
   "outputs": [],
   "source": [
    "trained_nb = w_nb.fit(X_c_dtm, y_4)"
   ]
  },
  {
   "cell_type": "code",
   "execution_count": 56,
   "metadata": {
    "collapsed": true
   },
   "outputs": [],
   "source": [
    "predictions = w_nb.predict(X_w_dtm)"
   ]
  },
  {
   "cell_type": "code",
   "execution_count": 57,
   "metadata": {
    "collapsed": false
   },
   "outputs": [
    {
     "data": {
      "text/plain": [
       "array([ 1.,  1.,  1., ...,  3.,  3.,  1.])"
      ]
     },
     "execution_count": 57,
     "metadata": {},
     "output_type": "execute_result"
    }
   ],
   "source": [
    "predictions"
   ]
  },
  {
   "cell_type": "code",
   "execution_count": 58,
   "metadata": {
    "collapsed": true
   },
   "outputs": [],
   "source": [
    "probs = w_nb.predict_proba(X_w_dtm)"
   ]
  },
  {
   "cell_type": "code",
   "execution_count": 59,
   "metadata": {
    "collapsed": false
   },
   "outputs": [
    {
     "data": {
      "text/plain": [
       "array([[  9.99999998e-001,   1.67668636e-009,   7.66413598e-020,\n",
       "          1.14779069e-043],\n",
       "       [  9.99999954e-001,   4.59738258e-008,   2.17060441e-074,\n",
       "          1.42642134e-125],\n",
       "       [  9.99465764e-001,   5.34236298e-004,   2.93696871e-012,\n",
       "          9.20107529e-051],\n",
       "       ..., \n",
       "       [  1.81073135e-006,   3.25979941e-002,   9.67400195e-001,\n",
       "          2.01035268e-027],\n",
       "       [  2.76504688e-013,   2.59684957e-010,   1.00000000e+000,\n",
       "          1.21024950e-029],\n",
       "       [  9.99999567e-001,   4.32695580e-007,   2.25658083e-018,\n",
       "          4.32480790e-018]])"
      ]
     },
     "execution_count": 59,
     "metadata": {},
     "output_type": "execute_result"
    }
   ],
   "source": [
    "probs"
   ]
  },
  {
   "cell_type": "code",
   "execution_count": 60,
   "metadata": {
    "collapsed": true
   },
   "outputs": [],
   "source": [
    "wild_data['Prediction'] = predictions"
   ]
  },
  {
   "cell_type": "code",
   "execution_count": 61,
   "metadata": {
    "collapsed": false
   },
   "outputs": [
    {
     "data": {
      "text/plain": [
       "1.0      946\n",
       "2.0      940\n",
       "3.0      628\n",
       "100.0     14\n",
       "Name: Prediction, dtype: int64"
      ]
     },
     "execution_count": 61,
     "metadata": {},
     "output_type": "execute_result"
    }
   ],
   "source": [
    "wild_data.Prediction.value_counts()"
   ]
  },
  {
   "cell_type": "code",
   "execution_count": 63,
   "metadata": {
    "collapsed": false
   },
   "outputs": [
    {
     "data": {
      "text/html": [
       "<div>\n",
       "<table border=\"1\" class=\"dataframe\">\n",
       "  <thead>\n",
       "    <tr style=\"text-align: right;\">\n",
       "      <th></th>\n",
       "      <th>quote</th>\n",
       "      <th>code</th>\n",
       "      <th>Prediction</th>\n",
       "    </tr>\n",
       "  </thead>\n",
       "  <tbody>\n",
       "    <tr>\n",
       "      <th>2085</th>\n",
       "      <td>The best way to predict the future is to creat...</td>\n",
       "      <td>30</td>\n",
       "      <td>3.0</td>\n",
       "    </tr>\n",
       "    <tr>\n",
       "      <th>2093</th>\n",
       "      <td>And in the end it's not the years in your life...</td>\n",
       "      <td>30</td>\n",
       "      <td>1.0</td>\n",
       "    </tr>\n",
       "    <tr>\n",
       "      <th>2497</th>\n",
       "      <td>Nearly all men can stand adversity but if you ...</td>\n",
       "      <td>30</td>\n",
       "      <td>1.0</td>\n",
       "    </tr>\n",
       "    <tr>\n",
       "      <th>2498</th>\n",
       "      <td>Labor is prior to and independent of capital. ...</td>\n",
       "      <td>30</td>\n",
       "      <td>3.0</td>\n",
       "    </tr>\n",
       "    <tr>\n",
       "      <th>2499</th>\n",
       "      <td>He bores me. He ought to have stuck to his fly...</td>\n",
       "      <td>30</td>\n",
       "      <td>1.0</td>\n",
       "    </tr>\n",
       "    <tr>\n",
       "      <th>2500</th>\n",
       "      <td>You cannot help men permanently by doing for t...</td>\n",
       "      <td>30</td>\n",
       "      <td>3.0</td>\n",
       "    </tr>\n",
       "    <tr>\n",
       "      <th>2501</th>\n",
       "      <td>America will never be destroyed from the outsi...</td>\n",
       "      <td>30</td>\n",
       "      <td>3.0</td>\n",
       "    </tr>\n",
       "    <tr>\n",
       "      <th>2502</th>\n",
       "      <td>Now  I say to you  my fellow-citizens  that in...</td>\n",
       "      <td>30</td>\n",
       "      <td>3.0</td>\n",
       "    </tr>\n",
       "    <tr>\n",
       "      <th>2503</th>\n",
       "      <td>As a result of the war  corporations have been...</td>\n",
       "      <td>30</td>\n",
       "      <td>3.0</td>\n",
       "    </tr>\n",
       "    <tr>\n",
       "      <th>2504</th>\n",
       "      <td>The money powers prey upon the nation in times...</td>\n",
       "      <td>30</td>\n",
       "      <td>3.0</td>\n",
       "    </tr>\n",
       "    <tr>\n",
       "      <th>2505</th>\n",
       "      <td>I like to see a man proud of the place in whic...</td>\n",
       "      <td>30</td>\n",
       "      <td>2.0</td>\n",
       "    </tr>\n",
       "    <tr>\n",
       "      <th>2506</th>\n",
       "      <td>Any nation that does not honor its heroes will...</td>\n",
       "      <td>30</td>\n",
       "      <td>3.0</td>\n",
       "    </tr>\n",
       "    <tr>\n",
       "      <th>2507</th>\n",
       "      <td>There is no room for two distinct races of whi...</td>\n",
       "      <td>30</td>\n",
       "      <td>3.0</td>\n",
       "    </tr>\n",
       "    <tr>\n",
       "      <th>2508</th>\n",
       "      <td>Congressmen who willfully take actions during ...</td>\n",
       "      <td>30</td>\n",
       "      <td>3.0</td>\n",
       "    </tr>\n",
       "    <tr>\n",
       "      <th>2509</th>\n",
       "      <td>If you look for the bad in mankind expecting t...</td>\n",
       "      <td>30</td>\n",
       "      <td>2.0</td>\n",
       "    </tr>\n",
       "    <tr>\n",
       "      <th>2510</th>\n",
       "      <td>Money is the creature of law and creation of t...</td>\n",
       "      <td>30</td>\n",
       "      <td>3.0</td>\n",
       "    </tr>\n",
       "    <tr>\n",
       "      <th>2511</th>\n",
       "      <td>If this is coffee  please bring me some tea; b...</td>\n",
       "      <td>30</td>\n",
       "      <td>1.0</td>\n",
       "    </tr>\n",
       "    <tr>\n",
       "      <th>2512</th>\n",
       "      <td>I will study and get ready  and perhaps my cha...</td>\n",
       "      <td>30</td>\n",
       "      <td>1.0</td>\n",
       "    </tr>\n",
       "    <tr>\n",
       "      <th>2513</th>\n",
       "      <td>I am not concerned that you fall; I am concern...</td>\n",
       "      <td>30</td>\n",
       "      <td>2.0</td>\n",
       "    </tr>\n",
       "    <tr>\n",
       "      <th>2514</th>\n",
       "      <td>I destroy my enemies when I make them my friends.</td>\n",
       "      <td>30</td>\n",
       "      <td>3.0</td>\n",
       "    </tr>\n",
       "    <tr>\n",
       "      <th>2515</th>\n",
       "      <td>If I had another face  do you think I would we...</td>\n",
       "      <td>30</td>\n",
       "      <td>1.0</td>\n",
       "    </tr>\n",
       "    <tr>\n",
       "      <th>2516</th>\n",
       "      <td>It is better to be silent and be thought a foo...</td>\n",
       "      <td>30</td>\n",
       "      <td>1.0</td>\n",
       "    </tr>\n",
       "    <tr>\n",
       "      <th>2517</th>\n",
       "      <td>Marriage is neither heaven nor hell  it is sim...</td>\n",
       "      <td>30</td>\n",
       "      <td>2.0</td>\n",
       "    </tr>\n",
       "    <tr>\n",
       "      <th>2518</th>\n",
       "      <td>The best way to get a bad law repealed is to e...</td>\n",
       "      <td>30</td>\n",
       "      <td>3.0</td>\n",
       "    </tr>\n",
       "    <tr>\n",
       "      <th>2519</th>\n",
       "      <td>And in the end  it's not the years in your lif...</td>\n",
       "      <td>30</td>\n",
       "      <td>1.0</td>\n",
       "    </tr>\n",
       "    <tr>\n",
       "      <th>2520</th>\n",
       "      <td>I am a firm believer in the people. If given t...</td>\n",
       "      <td>30</td>\n",
       "      <td>3.0</td>\n",
       "    </tr>\n",
       "    <tr>\n",
       "      <th>2521</th>\n",
       "      <td>The people will save their government  if the ...</td>\n",
       "      <td>30</td>\n",
       "      <td>3.0</td>\n",
       "    </tr>\n",
       "    <tr>\n",
       "      <th>2522</th>\n",
       "      <td>You can fool some of the people all of the tim...</td>\n",
       "      <td>30</td>\n",
       "      <td>3.0</td>\n",
       "    </tr>\n",
       "    <tr>\n",
       "      <th>2523</th>\n",
       "      <td>When I left Springfield I asked the people to ...</td>\n",
       "      <td>30</td>\n",
       "      <td>1.0</td>\n",
       "    </tr>\n",
       "    <tr>\n",
       "      <th>2524</th>\n",
       "      <td>We  on our side  are praying Him to give us vi...</td>\n",
       "      <td>30</td>\n",
       "      <td>1.0</td>\n",
       "    </tr>\n",
       "    <tr>\n",
       "      <th>2525</th>\n",
       "      <td>It's my experience that folks who have no vice...</td>\n",
       "      <td>30</td>\n",
       "      <td>3.0</td>\n",
       "    </tr>\n",
       "    <tr>\n",
       "      <th>2526</th>\n",
       "      <td>What is to be  will be  and no prayers of ours...</td>\n",
       "      <td>30</td>\n",
       "      <td>3.0</td>\n",
       "    </tr>\n",
       "    <tr>\n",
       "      <th>2527</th>\n",
       "      <td>Let's bomb so we can go home.</td>\n",
       "      <td>30</td>\n",
       "      <td>1.0</td>\n",
       "    </tr>\n",
       "  </tbody>\n",
       "</table>\n",
       "</div>"
      ],
      "text/plain": [
       "                                                  quote code  Prediction\n",
       "2085  The best way to predict the future is to creat...   30         3.0\n",
       "2093  And in the end it's not the years in your life...   30         1.0\n",
       "2497  Nearly all men can stand adversity but if you ...   30         1.0\n",
       "2498  Labor is prior to and independent of capital. ...   30         3.0\n",
       "2499  He bores me. He ought to have stuck to his fly...   30         1.0\n",
       "2500  You cannot help men permanently by doing for t...   30         3.0\n",
       "2501  America will never be destroyed from the outsi...   30         3.0\n",
       "2502  Now  I say to you  my fellow-citizens  that in...   30         3.0\n",
       "2503  As a result of the war  corporations have been...   30         3.0\n",
       "2504  The money powers prey upon the nation in times...   30         3.0\n",
       "2505  I like to see a man proud of the place in whic...   30         2.0\n",
       "2506  Any nation that does not honor its heroes will...   30         3.0\n",
       "2507  There is no room for two distinct races of whi...   30         3.0\n",
       "2508  Congressmen who willfully take actions during ...   30         3.0\n",
       "2509  If you look for the bad in mankind expecting t...   30         2.0\n",
       "2510  Money is the creature of law and creation of t...   30         3.0\n",
       "2511  If this is coffee  please bring me some tea; b...   30         1.0\n",
       "2512  I will study and get ready  and perhaps my cha...   30         1.0\n",
       "2513  I am not concerned that you fall; I am concern...   30         2.0\n",
       "2514  I destroy my enemies when I make them my friends.   30         3.0\n",
       "2515  If I had another face  do you think I would we...   30         1.0\n",
       "2516  It is better to be silent and be thought a foo...   30         1.0\n",
       "2517  Marriage is neither heaven nor hell  it is sim...   30         2.0\n",
       "2518  The best way to get a bad law repealed is to e...   30         3.0\n",
       "2519  And in the end  it's not the years in your lif...   30         1.0\n",
       "2520  I am a firm believer in the people. If given t...   30         3.0\n",
       "2521  The people will save their government  if the ...   30         3.0\n",
       "2522  You can fool some of the people all of the tim...   30         3.0\n",
       "2523  When I left Springfield I asked the people to ...   30         1.0\n",
       "2524  We  on our side  are praying Him to give us vi...   30         1.0\n",
       "2525  It's my experience that folks who have no vice...   30         3.0\n",
       "2526  What is to be  will be  and no prayers of ours...   30         3.0\n",
       "2527                      Let's bomb so we can go home.   30         1.0"
      ]
     },
     "execution_count": 63,
     "metadata": {},
     "output_type": "execute_result"
    }
   ],
   "source": [
    "wild_data[wild_data.code==30]"
   ]
  },
  {
   "cell_type": "code",
   "execution_count": 83,
   "metadata": {
    "collapsed": false
   },
   "outputs": [],
   "source": [
    "TN_L = float(len(wild_data[wild_data.code==30]))"
   ]
  },
  {
   "cell_type": "code",
   "execution_count": 84,
   "metadata": {
    "collapsed": false
   },
   "outputs": [],
   "source": [
    "FP_L = float(len(wild_data[(wild_data.code == 30) & (wild_data.Prediction == 3.0)]))"
   ]
  },
  {
   "cell_type": "code",
   "execution_count": 85,
   "metadata": {
    "collapsed": false
   },
   "outputs": [
    {
     "data": {
      "text/plain": [
       "0.5454545454545454"
      ]
     },
     "execution_count": 85,
     "metadata": {},
     "output_type": "execute_result"
    }
   ],
   "source": [
    "FP_L/TN_L"
   ]
  },
  {
   "cell_type": "markdown",
   "metadata": {},
   "source": [
    "So just over 50 percent of the falseley attributed quotations were predicted to be Lincoln by the model, including the quotation that started this whole thing."
   ]
  },
  {
   "cell_type": "code",
   "execution_count": 90,
   "metadata": {
    "collapsed": false
   },
   "outputs": [],
   "source": [
    "TN_W = float(len(wild_data[wild_data.code==20]))\n",
    "FP_W = float(len(wild_data[(wild_data.code==20) & (wild_data.Prediction==2.0)]))"
   ]
  },
  {
   "cell_type": "code",
   "execution_count": 91,
   "metadata": {
    "collapsed": false
   },
   "outputs": [
    {
     "data": {
      "text/plain": [
       "0.38461538461538464"
      ]
     },
     "execution_count": 91,
     "metadata": {},
     "output_type": "execute_result"
    }
   ],
   "source": [
    "FP_W/TN_W"
   ]
  },
  {
   "cell_type": "markdown",
   "metadata": {},
   "source": [
    "Wilde was a little better, just under 40% of the quotes falsely attributed to Wilde were predicted to be his according to the model."
   ]
  },
  {
   "cell_type": "code",
   "execution_count": 92,
   "metadata": {
    "collapsed": true
   },
   "outputs": [],
   "source": [
    "TN_T = float(len(wild_data[wild_data.code==10]))\n",
    "FP_T = float(len(wild_data[(wild_data.code==10) & (wild_data.Prediction==1.0)]))"
   ]
  },
  {
   "cell_type": "code",
   "execution_count": 93,
   "metadata": {
    "collapsed": false
   },
   "outputs": [
    {
     "data": {
      "text/plain": [
       "0.46875"
      ]
     },
     "execution_count": 93,
     "metadata": {},
     "output_type": "execute_result"
    }
   ],
   "source": [
    "FP_T/TN_T"
   ]
  },
  {
   "cell_type": "code",
   "execution_count": 95,
   "metadata": {
    "collapsed": false
   },
   "outputs": [
    {
     "data": {
      "text/html": [
       "<div>\n",
       "<table border=\"1\" class=\"dataframe\">\n",
       "  <thead>\n",
       "    <tr style=\"text-align: right;\">\n",
       "      <th></th>\n",
       "      <th>quote</th>\n",
       "      <th>code</th>\n",
       "      <th>Prediction</th>\n",
       "    </tr>\n",
       "  </thead>\n",
       "  <tbody>\n",
       "    <tr>\n",
       "      <th>0</th>\n",
       "      <td>If you pick up a starving dog and make him pro...</td>\n",
       "      <td>1</td>\n",
       "      <td>1.0</td>\n",
       "    </tr>\n",
       "    <tr>\n",
       "      <th>24</th>\n",
       "      <td>Part of my plan has been to try to pleasantly ...</td>\n",
       "      <td>1</td>\n",
       "      <td>1.0</td>\n",
       "    </tr>\n",
       "    <tr>\n",
       "      <th>1154</th>\n",
       "      <td>In the first place, God made idiots. That was ...</td>\n",
       "      <td>1</td>\n",
       "      <td>1.0</td>\n",
       "    </tr>\n",
       "    <tr>\n",
       "      <th>1189</th>\n",
       "      <td>one should never copy the method of an artist....</td>\n",
       "      <td>2</td>\n",
       "      <td>2.0</td>\n",
       "    </tr>\n",
       "    <tr>\n",
       "      <th>1990</th>\n",
       "      <td>A woman will flirt with anybody in the world a...</td>\n",
       "      <td>2</td>\n",
       "      <td>2.0</td>\n",
       "    </tr>\n",
       "    <tr>\n",
       "      <th>1996</th>\n",
       "      <td>To get into the best society nowadays one has ...</td>\n",
       "      <td>2</td>\n",
       "      <td>2.0</td>\n",
       "    </tr>\n",
       "    <tr>\n",
       "      <th>1997</th>\n",
       "      <td>It is very vulgar to talk about one's business...</td>\n",
       "      <td>2</td>\n",
       "      <td>2.0</td>\n",
       "    </tr>\n",
       "    <tr>\n",
       "      <th>2086</th>\n",
       "      <td>I am for those means which will give the great...</td>\n",
       "      <td>3</td>\n",
       "      <td>3.0</td>\n",
       "    </tr>\n",
       "  </tbody>\n",
       "</table>\n",
       "</div>"
      ],
      "text/plain": [
       "                                                  quote code  Prediction\n",
       "0     If you pick up a starving dog and make him pro...    1         1.0\n",
       "24    Part of my plan has been to try to pleasantly ...    1         1.0\n",
       "1154  In the first place, God made idiots. That was ...    1         1.0\n",
       "1189  one should never copy the method of an artist....    2         2.0\n",
       "1990  A woman will flirt with anybody in the world a...    2         2.0\n",
       "1996  To get into the best society nowadays one has ...    2         2.0\n",
       "1997  It is very vulgar to talk about one's business...    2         2.0\n",
       "2086  I am for those means which will give the great...    3         3.0"
      ]
     },
     "execution_count": 95,
     "metadata": {},
     "output_type": "execute_result"
    }
   ],
   "source": [
    "wild_data[wild_data.code == wild_data.Prediction]"
   ]
  },
  {
   "cell_type": "code",
   "execution_count": 99,
   "metadata": {
    "collapsed": false
   },
   "outputs": [
    {
     "data": {
      "text/html": [
       "<div>\n",
       "<table border=\"1\" class=\"dataframe\">\n",
       "  <thead>\n",
       "    <tr style=\"text-align: right;\">\n",
       "      <th></th>\n",
       "      <th>quote</th>\n",
       "      <th>code</th>\n",
       "      <th>Prediction</th>\n",
       "    </tr>\n",
       "  </thead>\n",
       "  <tbody>\n",
       "    <tr>\n",
       "      <th>0</th>\n",
       "      <td>If you pick up a starving dog and make him pro...</td>\n",
       "      <td>1</td>\n",
       "      <td>1.0</td>\n",
       "    </tr>\n",
       "    <tr>\n",
       "      <th>24</th>\n",
       "      <td>Part of my plan has been to try to pleasantly ...</td>\n",
       "      <td>1</td>\n",
       "      <td>1.0</td>\n",
       "    </tr>\n",
       "    <tr>\n",
       "      <th>1154</th>\n",
       "      <td>In the first place, God made idiots. That was ...</td>\n",
       "      <td>1</td>\n",
       "      <td>1.0</td>\n",
       "    </tr>\n",
       "    <tr>\n",
       "      <th>1189</th>\n",
       "      <td>one should never copy the method of an artist....</td>\n",
       "      <td>2</td>\n",
       "      <td>2.0</td>\n",
       "    </tr>\n",
       "    <tr>\n",
       "      <th>1990</th>\n",
       "      <td>A woman will flirt with anybody in the world a...</td>\n",
       "      <td>2</td>\n",
       "      <td>2.0</td>\n",
       "    </tr>\n",
       "    <tr>\n",
       "      <th>1996</th>\n",
       "      <td>To get into the best society nowadays one has ...</td>\n",
       "      <td>2</td>\n",
       "      <td>2.0</td>\n",
       "    </tr>\n",
       "    <tr>\n",
       "      <th>1997</th>\n",
       "      <td>It is very vulgar to talk about one's business...</td>\n",
       "      <td>2</td>\n",
       "      <td>2.0</td>\n",
       "    </tr>\n",
       "    <tr>\n",
       "      <th>2086</th>\n",
       "      <td>I am for those means which will give the great...</td>\n",
       "      <td>3</td>\n",
       "      <td>3.0</td>\n",
       "    </tr>\n",
       "  </tbody>\n",
       "</table>\n",
       "</div>"
      ],
      "text/plain": [
       "                                                  quote code  Prediction\n",
       "0     If you pick up a starving dog and make him pro...    1         1.0\n",
       "24    Part of my plan has been to try to pleasantly ...    1         1.0\n",
       "1154  In the first place, God made idiots. That was ...    1         1.0\n",
       "1189  one should never copy the method of an artist....    2         2.0\n",
       "1990  A woman will flirt with anybody in the world a...    2         2.0\n",
       "1996  To get into the best society nowadays one has ...    2         2.0\n",
       "1997  It is very vulgar to talk about one's business...    2         2.0\n",
       "2086  I am for those means which will give the great...    3         3.0"
      ]
     },
     "execution_count": 99,
     "metadata": {},
     "output_type": "execute_result"
    }
   ],
   "source": [
    "wild_data[(wild_data.code != '??') & (wild_data.Prediction == wild_data.code)]"
   ]
  },
  {
   "cell_type": "markdown",
   "metadata": {},
   "source": [
    "And of the 91 quotations with known attributions, the model correctly guessed 9, about 10%."
   ]
  },
  {
   "cell_type": "code",
   "execution_count": null,
   "metadata": {
    "collapsed": true
   },
   "outputs": [],
   "source": []
  }
 ],
 "metadata": {
  "anaconda-cloud": {},
  "kernelspec": {
   "display_name": "Python [Root]",
   "language": "python",
   "name": "Python [Root]"
  },
  "language_info": {
   "codemirror_mode": {
    "name": "ipython",
    "version": 2
   },
   "file_extension": ".py",
   "mimetype": "text/x-python",
   "name": "python",
   "nbconvert_exporter": "python",
   "pygments_lexer": "ipython2",
   "version": "2.7.12"
  }
 },
 "nbformat": 4,
 "nbformat_minor": 0
}
