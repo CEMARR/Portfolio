{
 "cells": [
  {
   "cell_type": "markdown",
   "metadata": {},
   "source": [
    "# Scraping for Quotations to Debunk"
   ]
  },
  {
   "cell_type": "markdown",
   "metadata": {},
   "source": [
    "Realizing that we needed something to test all of this against, I scraped the webernet for quotations attributed to Lincoln, Wilde, and Twain, and found a bonanza of insipid nonsense on \"Successories.com\" which engraves things with motivational sayings. For each of these, I debunked 30 (or as close as I could get; Wilde seems to have said everythign he's reported to have said) by hand using Wikiquote, Snopes, and Quote Investigator to ensure that they are, in fact, spurious.\n",
    "\n",
    "In order to have some kind of 21st century source, I also pulled the top 30 most recent articles from McSweeney's Internet Tendency. Not sure what, if anything, I'll do with it, but there it is."
   ]
  },
  {
   "cell_type": "markdown",
   "metadata": {},
   "source": [
    "### Note to self: as of 18 October 2016, none of this code should be run again unless in dire need."
   ]
  },
  {
   "cell_type": "code",
   "execution_count": 1,
   "metadata": {
    "collapsed": true
   },
   "outputs": [],
   "source": [
    "import pandas as pd\n",
    "import requests\n",
    "from bs4 import BeautifulSoup, SoupStrainer\n",
    "import time\n",
    "import random\n",
    "import re"
   ]
  },
  {
   "cell_type": "code",
   "execution_count": null,
   "metadata": {
    "collapsed": true
   },
   "outputs": [],
   "source": [
    "url = 'http://www.successories.com/iquote/author/291/abraham-lincoln-quotes/' + 'i'\n",
    "\n",
    "r = requests.get(url)\n",
    "\n",
    "content = r.text\n",
    "\n",
    "r\n",
    "\n",
    "soup = BeautifulSoup(content, 'html.parser')"
   ]
  },
  {
   "cell_type": "code",
   "execution_count": null,
   "metadata": {
    "collapsed": false
   },
   "outputs": [],
   "source": [
    "print soup.find(name='div', attrs={'class':'quote'}).text"
   ]
  },
  {
   "cell_type": "code",
   "execution_count": null,
   "metadata": {
    "collapsed": true
   },
   "outputs": [],
   "source": [
    "quote_list = []"
   ]
  },
  {
   "cell_type": "code",
   "execution_count": null,
   "metadata": {
    "collapsed": false
   },
   "outputs": [],
   "source": [
    "for quote in soup.find_all(name='div', attrs={'class':'quote'}):\n",
    "    quote_list.append(quote.text)"
   ]
  },
  {
   "cell_type": "code",
   "execution_count": null,
   "metadata": {
    "collapsed": false
   },
   "outputs": [],
   "source": [
    "quote_list"
   ]
  },
  {
   "cell_type": "code",
   "execution_count": null,
   "metadata": {
    "collapsed": true
   },
   "outputs": [],
   "source": [
    "for i in range(1, 45):\n",
    "    url = 'http://www.successories.com/iquote/author/291/abraham-lincoln-quotes/' + 'i'"
   ]
  },
  {
   "cell_type": "code",
   "execution_count": 2,
   "metadata": {
    "collapsed": true
   },
   "outputs": [],
   "source": [
    "quote_url = []\n",
    "for i in range(1,119):\n",
    "    quote_url.append('http://www.successories.com/iquote/author/11/mark-twain-quotes/' + str(i))"
   ]
  },
  {
   "cell_type": "code",
   "execution_count": null,
   "metadata": {
    "collapsed": false
   },
   "outputs": [],
   "source": [
    "quote_url[-1]"
   ]
  },
  {
   "cell_type": "code",
   "execution_count": 3,
   "metadata": {
    "collapsed": false
   },
   "outputs": [],
   "source": [
    "twain_quotes = pd.DataFrame(columns=['quote'])"
   ]
  },
  {
   "cell_type": "code",
   "execution_count": 4,
   "metadata": {
    "collapsed": true
   },
   "outputs": [],
   "source": [
    "for url in quote_url:\n",
    "    r = requests.get(url)\n",
    "    html = r.text\n",
    "    soup = BeautifulSoup(html, 'html.parser')\n",
    "    for quote in soup.find_all(name='div', attrs={'class':'quote'}):\n",
    "        q = quote.text\n",
    "        twain_quotes.loc[len(twain_quotes)]=[q]\n",
    "    n = random.randint(0,15)\n",
    "    time.sleep(n)"
   ]
  },
  {
   "cell_type": "code",
   "execution_count": 5,
   "metadata": {
    "collapsed": false
   },
   "outputs": [
    {
     "data": {
      "text/plain": [
       "(1173, 1)"
      ]
     },
     "execution_count": 5,
     "metadata": {},
     "output_type": "execute_result"
    }
   ],
   "source": [
    "twain_quotes.shape"
   ]
  },
  {
   "cell_type": "code",
   "execution_count": 6,
   "metadata": {
    "collapsed": false
   },
   "outputs": [],
   "source": [
    "twain_quotes.to_csv('twain_quotes.csv', encoding='utf-8')"
   ]
  },
  {
   "cell_type": "code",
   "execution_count": null,
   "metadata": {
    "collapsed": false
   },
   "outputs": [],
   "source": [
    "lincoln_quotes = pd.DataFrame(columns=['quote'])"
   ]
  },
  {
   "cell_type": "code",
   "execution_count": null,
   "metadata": {
    "collapsed": true
   },
   "outputs": [],
   "source": [
    "quote_url2 = []\n",
    "for i in range(1,45):\n",
    "    quote_url2.append('http://www.successories.com/iquote/author/291/abraham-lincoln-quotes/' + str(i))"
   ]
  },
  {
   "cell_type": "code",
   "execution_count": null,
   "metadata": {
    "collapsed": true
   },
   "outputs": [],
   "source": [
    "for url in quote_url2:\n",
    "    r = requests.get(url)\n",
    "    html = r.text\n",
    "    soup = BeautifulSoup(html, 'html.parser')\n",
    "    for quote in soup.find_all(name='div', attrs={'class':'quote'}):\n",
    "        q = quote.text\n",
    "        lincoln_quotes.loc[len(lincoln_quotes)]=[q]\n",
    "    n = random.randint(0,15)\n",
    "    time.sleep(n)"
   ]
  },
  {
   "cell_type": "code",
   "execution_count": null,
   "metadata": {
    "collapsed": true
   },
   "outputs": [],
   "source": [
    "lincoln_quotes.to_csv('lincoln_quotes.csv', sep='|', encoding='utf-8')"
   ]
  },
  {
   "cell_type": "code",
   "execution_count": null,
   "metadata": {
    "collapsed": false
   },
   "outputs": [],
   "source": [
    "quote_url3 = []\n",
    "for i in range(1, 91):\n",
    "    quote_url3.append('http://www.successories.com/iquote/author/192/oscar-wilde-quotes/'+str(i))"
   ]
  },
  {
   "cell_type": "code",
   "execution_count": null,
   "metadata": {
    "collapsed": true
   },
   "outputs": [],
   "source": [
    "wilde_quotes = pd.DataFrame(columns=['quote'])"
   ]
  },
  {
   "cell_type": "code",
   "execution_count": null,
   "metadata": {
    "collapsed": true
   },
   "outputs": [],
   "source": [
    "for url in quote_url3:\n",
    "    r = requests.get(url)\n",
    "    html = r.text\n",
    "    soup = BeautifulSoup(html, 'html.parser')\n",
    "    for quote in soup.find_all(name='div', attrs={'class':'quote'}):\n",
    "        q = quote.text\n",
    "        wilde_quotes.loc[len(wilde_quotes)]=[q]\n",
    "    n = random.randint(0,15)\n",
    "    time.sleep(n)"
   ]
  },
  {
   "cell_type": "code",
   "execution_count": null,
   "metadata": {
    "collapsed": false
   },
   "outputs": [],
   "source": [
    "wilde_quotes.to_csv('wilde_quotes.csv', sep='|', encoding='utf-8')"
   ]
  },
  {
   "cell_type": "markdown",
   "metadata": {},
   "source": [
    "## 21st C Case"
   ]
  },
  {
   "cell_type": "code",
   "execution_count": null,
   "metadata": {
    "collapsed": true
   },
   "outputs": [],
   "source": [
    "url = 'https://www.mcsweeneys.net/articles/it-takes-a-village-of-9-and-11-year-old-girls-to-raise-my-child'"
   ]
  },
  {
   "cell_type": "code",
   "execution_count": null,
   "metadata": {
    "collapsed": true
   },
   "outputs": [],
   "source": [
    "r = requests.get(url)\n",
    "\n",
    "html = r.text\n",
    "\n",
    "soup = BeautifulSoup(html, 'html.parser')\n",
    "\n",
    "for item in soup.find_all(\"div\", attrs={\"class\":\"articleBody\"}):\n",
    "    print item.text"
   ]
  },
  {
   "cell_type": "code",
   "execution_count": 2,
   "metadata": {
    "collapsed": false
   },
   "outputs": [],
   "source": [
    "urls5 = [\n",
    "    'https://www.mcsweeneys.net/articles/it-takes-a-village-of-9-and-11-year-old-girls-to-raise-my-child',\n",
    "'https://www.mcsweeneys.net/articles/im-one-of-those-nice-guys',\n",
    "'https://www.mcsweeneys.net/articles/thanks-cindy-for-making-eye-contact-through-the-bathroom-stall-and-making-it-super-awkward-during-the-department-productivity-meeting',\n",
    "'https://www.mcsweeneys.net/articles/im-the-person-everyone-is-trying-to-convince-not-to-vote-for-donald-trump-on-social-media',\n",
    "'https://www.mcsweeneys.net/articles/16-useful-mnemonics-for-commonly-misspelled-words-from-a-desperate-writer-who-told-us-he-knew-20',\n",
    "'https://www.mcsweeneys.net/articles/are-you-the-next-rock-star-social-media-manager-whos-willing-to-literally-die-for-content',\n",
    "'https://www.mcsweeneys.net/articles/the-prose-edda-for-bostonians-gylfaginning-part-xxi',\n",
    "'https://www.mcsweeneys.net/articles/im-looking-for-a-candidate-who-tells-it-like-it-is',\n",
    "'https://www.mcsweeneys.net/articles/the-fourteenth-batch-2016',\n",
    "'https://www.mcsweeneys.net/articles/your-play-has-been-accepted-into-the-theater-and-cheese-festival-of-yakima-wa',\n",
    "'https://www.mcsweeneys.net/articles/shrimp-whistle',\n",
    "'https://www.mcsweeneys.net/articles/i-want-to-apply-for-the-position-of-rent-seeking-capitalist',\n",
    "'https://www.mcsweeneys.net/articles/can-you-believe-donald-trump-did-that-thing',\n",
    "'https://www.mcsweeneys.net/articles/trump-campaign-memo-regarding-subway-sandwiches',\n",
    "'https://www.mcsweeneys.net/articles/this-is-the-year-the-cubs-win-the-world-series-and-thus-the-prophecy-shall-be-fulfilled',\n",
    "'https://www.mcsweeneys.net/articles/i-am-a-writer',\n",
    "'https://www.mcsweeneys.net/articles/how-to-talk-to-a-woman-with-no-headphone-jack',\n",
    "'https://www.mcsweeneys.net/articles/a-college-applicants-love-letter',\n",
    "'https://www.mcsweeneys.net/articles/welcome-to-hoodwink-the-advertising-agency-that-is-not-an-advertising-agency',\n",
    "'https://www.mcsweeneys.net/articles/congratulations-your-essay-has-been-accepted-by-loan-repayment-success-story-quarterly',\n",
    "'https://www.mcsweeneys.net/articles/the-foreshortened-career-arc-of-a-contingent-writing-instructor-by-the-numbers',\n",
    "'https://www.mcsweeneys.net/articles/tentative-outline-for-the-remaining-2016-election-news-coverage',\n",
    "'https://www.mcsweeneys.net/articles/a-chapter-from-really-hot-love-a-harlequin-romance-written-by-13-year-old-thomas-freeman',\n",
    "'https://www.mcsweeneys.net/articles/wedding-vows-to-my-work-wife',\n",
    "'https://www.mcsweeneys.net/articles/were-sorry-we-failed-to-deliver-nude-photos-of-arthur-miller',\n",
    "'https://www.mcsweeneys.net/articles/9-11',\n",
    "'https://www.mcsweeneys.net/articles/the-art-of-asking-a-question-to-a-literary-festival-panel',\n",
    "'https://www.mcsweeneys.net/articles/the-prose-edda-for-bostonians-gylfaginning-part-xx',\n",
    "'https://www.mcsweeneys.net/articles/excerpts-from-the-gilmore-girls-revival-script-which-seem-to-indicate-that-aliens-play-a-large-role-in-the-show',\n",
    "'https://www.mcsweeneys.net/articles/shira-and-her-boss-take-care-of-business',\n",
    "'https://www.mcsweeneys.net/articles/its-decorative-gourd-season-motherfuckers',\n",
    "'https://www.mcsweeneys.net/articles/spring-forward-fall-into-perpetual-darkness',\n",
    "'https://www.mcsweeneys.net/articles/our-tiny-home-is-revolutionizing-how-my-wife-and-i-fight',\n",
    "'https://www.mcsweeneys.net/articles/im-mad-as-hell-and-im-only-going-to-put-up-with-it-for-another-ten-or-fifteen-years',\n",
    "'https://www.mcsweeneys.net/articles/is-he-hot-or-is-he-just-holding-their-eyes-were-watching-god',\n",
    "'https://www.mcsweeneys.net/articles/miners-lamp-tag-and-cycling-end-caps',\n",
    "'https://www.mcsweeneys.net/articles/the-tracklist-for-my-all-white-entirely-male-punk-bands-forthcoming-trump-era-opus',\n",
    "'https://www.mcsweeneys.net/articles/an-honest-intern-application-cover-letter',\n",
    "'https://www.mcsweeneys.net/articles/david-your-latest-marketing-report-brought-me-to-tears',\n",
    "'https://www.mcsweeneys.net/articles/on-being-way-too-black',\n",
    "'https://www.mcsweeneys.net/articles/i-went-to-a-trump-rally-what-i-found-there-was-a-bunch-of-other-journalists-already-writing-this-article',\n",
    "'https://www.mcsweeneys.net/articles/from-the-therapy-notes-file-of-patient-ash-ketchum',\n",
    "'https://www.mcsweeneys.net/articles/tinder-is-the-night-and-the-day-and-the-morning-and-the-bathroom',\n",
    "'https://www.mcsweeneys.net/articles/i-am-an-animator',\n",
    "'https://www.mcsweeneys.net/articles/that-time-i-published-a-personal-essay-on-the-internet',\n",
    "'https://www.mcsweeneys.net/articles/an-open-letter-to-preeclampsia',\n",
    "'https://www.mcsweeneys.net/articles/were-looking-for-a-pop-culture-obsessed-blogger-demon-hunter-to-join-our-team',\n",
    "'https://www.mcsweeneys.net/articles/9-inappropriate-crushes-you-have-definitely-had-if-your-name-is-sarah-peebles-in-chronological-order',\n",
    "'https://www.mcsweeneys.net/articles/so-you-want-to-ride-on-my-party-boat',\n",
    "'https://www.mcsweeneys.net/articles/officer-anthony-engages-the-suspect',\n",
    "'https://www.mcsweeneys.net/articles/military-id-tag-and-blood-type-tag',\n",
    "'https://www.mcsweeneys.net/articles/a-poem-about-your-universitys-brand-new-institute',\n",
    "'https://www.mcsweeneys.net/articles/elizabeth-barrett-browning-how-can-we-love-thee-so-youre-not-so-pissed-off',\n",
    "'https://www.mcsweeneys.net/articles/other-types-of-tiny-houses',\n",
    "'https://www.mcsweeneys.net/articles/will-someone-please-tell-me-what-to-do-with-my-body',\n",
    "'https://www.mcsweeneys.net/articles/an-open-letter-to-lululemon-yoga-pants',\n",
    "'https://www.mcsweeneys.net/articles/intelligent-design-lacked-adequate-peer-review',\n",
    "'https://www.mcsweeneys.net/articles/an-exclusive-excerpt-from-harry-potter-and-the-cursing-child',\n",
    "'https://www.mcsweeneys.net/articles/what-i-wish-for-my-newborn-baby',\n",
    "'https://www.mcsweeneys.net/articles/objection-your-honor-its-time-for-my-moving-heartfelt-closing-speech-in-this-movie-about-a-trial',\n",
    "'https://www.mcsweeneys.net/articles/new-england-patriots-key-ring',\n",
    "'https://www.mcsweeneys.net/articles/the-crippling-anxiety-on-the-west-coast-is-just-as-good-as-the-crippling-anxiety-in-new-york',\n",
    "'https://www.mcsweeneys.net/articles/i-am-a-bar-mitzvah-entertainer',\n",
    "'https://www.mcsweeneys.net/articles/welcome-to-pint-sized-the-daycare-bar-for-adults',\n",
    "'https://www.mcsweeneys.net/articles/i-am-morgma-the-mauler-lord-of-your-local-apartment-rentals',\n",
    "'https://www.mcsweeneys.net/articles/steve-saves-greg',\n",
    "'https://www.mcsweeneys.net/articles/i-love-you-but-our-happiness-doesnt-fit-my-personal-brands-narrative-strategy']"
   ]
  },
  {
   "cell_type": "code",
   "execution_count": 6,
   "metadata": {
    "collapsed": false
   },
   "outputs": [],
   "source": [
    "mod_text = pd.DataFrame(columns=['article'])"
   ]
  },
  {
   "cell_type": "code",
   "execution_count": 7,
   "metadata": {
    "collapsed": false
   },
   "outputs": [
    {
     "data": {
      "text/plain": [
       "67"
      ]
     },
     "execution_count": 7,
     "metadata": {},
     "output_type": "execute_result"
    }
   ],
   "source": [
    "len(urls5)"
   ]
  },
  {
   "cell_type": "code",
   "execution_count": 8,
   "metadata": {
    "collapsed": true
   },
   "outputs": [],
   "source": [
    "for url in urls5:\n",
    "    r = requests.get(url)\n",
    "    html = r.text\n",
    "    soup = BeautifulSoup(html, 'html.parser')\n",
    "    for art in soup.find_all(name='div', attrs={'class':'articleBody'}):\n",
    "        c = art.text\n",
    "        mod_text.loc[len(mod_text)]=[c]\n",
    "    n = random.randint(0,15)\n",
    "    time.sleep(n)"
   ]
  },
  {
   "cell_type": "code",
   "execution_count": 9,
   "metadata": {
    "collapsed": false
   },
   "outputs": [
    {
     "data": {
      "text/html": [
       "<div>\n",
       "<table border=\"1\" class=\"dataframe\">\n",
       "  <thead>\n",
       "    <tr style=\"text-align: right;\">\n",
       "      <th></th>\n",
       "      <th>article</th>\n",
       "    </tr>\n",
       "  </thead>\n",
       "  <tbody>\n",
       "    <tr>\n",
       "      <th>0</th>\n",
       "      <td>\\nHey neighbor! That’s my naked three-year-old...</td>\n",
       "    </tr>\n",
       "    <tr>\n",
       "      <th>1</th>\n",
       "      <td>\\nWhen you see something about the world that ...</td>\n",
       "    </tr>\n",
       "    <tr>\n",
       "      <th>2</th>\n",
       "      <td>\\nI know we have emailed and transferred calls...</td>\n",
       "    </tr>\n",
       "    <tr>\n",
       "      <th>3</th>\n",
       "      <td>\\nHello, distant acquaintances! Have you heard...</td>\n",
       "    </tr>\n",
       "    <tr>\n",
       "      <th>4</th>\n",
       "      <td>\\n1.     A principle is something you believe ...</td>\n",
       "    </tr>\n",
       "  </tbody>\n",
       "</table>\n",
       "</div>"
      ],
      "text/plain": [
       "                                             article\n",
       "0  \\nHey neighbor! That’s my naked three-year-old...\n",
       "1  \\nWhen you see something about the world that ...\n",
       "2  \\nI know we have emailed and transferred calls...\n",
       "3  \\nHello, distant acquaintances! Have you heard...\n",
       "4  \\n1.     A principle is something you believe ..."
      ]
     },
     "execution_count": 9,
     "metadata": {},
     "output_type": "execute_result"
    }
   ],
   "source": [
    "mod_text.head()"
   ]
  },
  {
   "cell_type": "code",
   "execution_count": 10,
   "metadata": {
    "collapsed": true
   },
   "outputs": [],
   "source": [
    "mod_text['article'] = mod_text['article'].str.replace(\"\\n\", \"\")"
   ]
  },
  {
   "cell_type": "code",
   "execution_count": 11,
   "metadata": {
    "collapsed": false
   },
   "outputs": [],
   "source": [
    "mod_text['code'] = 100"
   ]
  },
  {
   "cell_type": "code",
   "execution_count": 13,
   "metadata": {
    "collapsed": false
   },
   "outputs": [
    {
     "data": {
      "text/html": [
       "<div>\n",
       "<table border=\"1\" class=\"dataframe\">\n",
       "  <thead>\n",
       "    <tr style=\"text-align: right;\">\n",
       "      <th></th>\n",
       "      <th>article</th>\n",
       "      <th>code</th>\n",
       "    </tr>\n",
       "  </thead>\n",
       "  <tbody>\n",
       "    <tr>\n",
       "      <th>0</th>\n",
       "      <td>Hey neighbor! That’s my naked three-year-old j...</td>\n",
       "      <td>100</td>\n",
       "    </tr>\n",
       "    <tr>\n",
       "      <th>1</th>\n",
       "      <td>When you see something about the world that yo...</td>\n",
       "      <td>100</td>\n",
       "    </tr>\n",
       "    <tr>\n",
       "      <th>2</th>\n",
       "      <td>I know we have emailed and transferred calls t...</td>\n",
       "      <td>100</td>\n",
       "    </tr>\n",
       "    <tr>\n",
       "      <th>3</th>\n",
       "      <td>Hello, distant acquaintances! Have you heard t...</td>\n",
       "      <td>100</td>\n",
       "    </tr>\n",
       "    <tr>\n",
       "      <th>4</th>\n",
       "      <td>1.     A principle is something you believe in...</td>\n",
       "      <td>100</td>\n",
       "    </tr>\n",
       "  </tbody>\n",
       "</table>\n",
       "</div>"
      ],
      "text/plain": [
       "                                             article  code\n",
       "0  Hey neighbor! That’s my naked three-year-old j...   100\n",
       "1  When you see something about the world that yo...   100\n",
       "2  I know we have emailed and transferred calls t...   100\n",
       "3  Hello, distant acquaintances! Have you heard t...   100\n",
       "4  1.     A principle is something you believe in...   100"
      ]
     },
     "execution_count": 13,
     "metadata": {},
     "output_type": "execute_result"
    }
   ],
   "source": [
    "mod_text.head()"
   ]
  },
  {
   "cell_type": "code",
   "execution_count": 14,
   "metadata": {
    "collapsed": true
   },
   "outputs": [],
   "source": [
    "mod_text.to_csv(\"mod_text.csv\", sep=\"|\", encoding=\"utf-8\")"
   ]
  },
  {
   "cell_type": "code",
   "execution_count": null,
   "metadata": {
    "collapsed": true
   },
   "outputs": [],
   "source": []
  },
  {
   "cell_type": "code",
   "execution_count": null,
   "metadata": {
    "collapsed": true
   },
   "outputs": [],
   "source": []
  }
 ],
 "metadata": {
  "anaconda-cloud": {},
  "kernelspec": {
   "display_name": "Python [Root]",
   "language": "python",
   "name": "Python [Root]"
  },
  "language_info": {
   "codemirror_mode": {
    "name": "ipython",
    "version": 2
   },
   "file_extension": ".py",
   "mimetype": "text/x-python",
   "name": "python",
   "nbconvert_exporter": "python",
   "pygments_lexer": "ipython2",
   "version": "2.7.12"
  }
 },
 "nbformat": 4,
 "nbformat_minor": 0
}
