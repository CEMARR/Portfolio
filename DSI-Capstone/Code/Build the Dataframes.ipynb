{
 "cells": [
  {
   "cell_type": "code",
   "execution_count": 1,
   "metadata": {
    "collapsed": false
   },
   "outputs": [],
   "source": [
    "import pandas as pd\n",
    "import numpy as np\n",
    "import matplotlib.pyplot as plt\n",
    "import seaborn as sns\n",
    "import itertools as it\n",
    "from sklearn.feature_extraction.text import CountVectorizer, TfidfVectorizer\n",
    "from sklearn.cross_validation import train_test_split, cross_val_score, cross_val_predict\n",
    "from sklearn.naive_bayes import MultinomialNB\n",
    "from sklearn.metrics import accuracy_score, precision_score, confusion_matrix\n",
    "% matplotlib inline"
   ]
  },
  {
   "cell_type": "markdown",
   "metadata": {},
   "source": [
    "# Vectors and Models\n",
    "We've more or less settled on using TFIDF as the vectorizer of record. This is because we are looking at frequencies across a range of documents. We went to all the trouble of creating corpora of various lengths in order to have a better experimental field for the research."
   ]
  },
  {
   "cell_type": "markdown",
   "metadata": {},
   "source": [
    "Twain = 1 \n",
    "Wilde = 2 \n",
    "Lincoln = 3\n",
    "///\n",
    "D_Twain = 10 \n",
    "D_Wilde = 20 \n",
    "D_Lincoln = 30\n",
    "///\n",
    "Modern = 100"
   ]
  },
  {
   "cell_type": "markdown",
   "metadata": {},
   "source": [
    "1000-, 500-, and 100-record samples for each original writer - Twain, Wilde, Lincoln"
   ]
  },
  {
   "cell_type": "code",
   "execution_count": null,
   "metadata": {
    "collapsed": false
   },
   "outputs": [],
   "source": [
    "a_df = pd.read_csv('author_counts.csv', sep=\"|\", encoding=\"utf-8\")"
   ]
  },
  {
   "cell_type": "code",
   "execution_count": null,
   "metadata": {
    "collapsed": false
   },
   "outputs": [],
   "source": [
    "a_df.drop(['Unnamed: 0'], axis=1, inplace=True)"
   ]
  },
  {
   "cell_type": "code",
   "execution_count": null,
   "metadata": {
    "collapsed": false
   },
   "outputs": [],
   "source": [
    "a_df"
   ]
  },
  {
   "cell_type": "code",
   "execution_count": null,
   "metadata": {
    "collapsed": true
   },
   "outputs": [],
   "source": [
    "# t_root = '../code/twain_final/t_'\n",
    "# w_root = '../code/wilde_final/w_'\n",
    "# c_root = '../code/lincoln_final/c_'"
   ]
  },
  {
   "cell_type": "code",
   "execution_count": null,
   "metadata": {
    "collapsed": false
   },
   "outputs": [],
   "source": [
    "# roots = [t_root, w_root, c_root]\n",
    "# var = ['1k_H', '1k_W', '1k_S', '500_H', '500_W', '500_S', '100_H', '100_W', '100_S']\n",
    "# auths = ['t_', 'w_', 'c_']"
   ]
  },
  {
   "cell_type": "code",
   "execution_count": null,
   "metadata": {
    "collapsed": false
   },
   "outputs": [],
   "source": [
    "# combo = it.product(roots, var)\n",
    "# filn = []\n",
    "# for i in combo:\n",
    "#     filn.append([i[0] + i[1]])\n",
    "\n",
    "# filn"
   ]
  },
  {
   "cell_type": "code",
   "execution_count": null,
   "metadata": {
    "collapsed": false
   },
   "outputs": [],
   "source": [
    "# combo2 = it.product(auths, var)\n",
    "# dfn = []\n",
    "# for o in combo2:\n",
    "#     print o[0] + o[1]\n",
    "\n",
    "# Alright. I am out of time for messing about with this. I'm going to do it in the most straightforward way I know how.\n",
    "# Excel!"
   ]
  },
  {
   "cell_type": "code",
   "execution_count": 2,
   "metadata": {
    "collapsed": true
   },
   "outputs": [],
   "source": [
    "t_1k_H=pd.read_csv('../code/twain_final/t_1k_H.csv', sep=\"|\", encoding=\"utf-8\")\n",
    "t_1k_W=pd.read_csv('../code/twain_final/t_1k_W.csv', sep=\"|\", encoding=\"utf-8\")\n",
    "t_1k_S=pd.read_csv('../code/twain_final/t_1k_S.csv', sep=\"|\", encoding=\"utf-8\")\n",
    "t_500_H=pd.read_csv('../code/twain_final/t_500_H.csv', sep=\"|\", encoding=\"utf-8\")\n",
    "t_500_W=pd.read_csv('../code/twain_final/t_500_W.csv', sep=\"|\", encoding=\"utf-8\")\n",
    "t_500_S=pd.read_csv('../code/twain_final/t_500_S.csv', sep=\"|\", encoding=\"utf-8\")\n",
    "t_100_H=pd.read_csv('../code/twain_final/t_100_H.csv', sep=\"|\", encoding=\"utf-8\")\n",
    "t_100_W=pd.read_csv('../code/twain_final/t_100_W.csv', sep=\"|\", encoding=\"utf-8\")\n",
    "t_100_S=pd.read_csv('../code/twain_final/t_100_S.csv', sep=\"|\", encoding=\"utf-8\")"
   ]
  },
  {
   "cell_type": "code",
   "execution_count": 3,
   "metadata": {
    "collapsed": true
   },
   "outputs": [],
   "source": [
    "w_1k_H=pd.read_csv('../code/wilde_final/w_1k_H.csv', sep=\"|\", encoding=\"utf-8\")\n",
    "w_1k_W=pd.read_csv('../code/wilde_final/w_1k_W.csv', sep=\"|\", encoding=\"utf-8\")\n",
    "w_1k_S=pd.read_csv('../code/wilde_final/w_1k_S.csv', sep=\"|\", encoding=\"utf-8\")\n",
    "w_500_H=pd.read_csv('../code/wilde_final/w_500_H.csv', sep=\"|\", encoding=\"utf-8\")\n",
    "w_500_W=pd.read_csv('../code/wilde_final/w_500_W.csv', sep=\"|\", encoding=\"utf-8\")\n",
    "w_500_S=pd.read_csv('../code/wilde_final/w_500_S.csv', sep=\"|\", encoding=\"utf-8\")\n",
    "w_100_H=pd.read_csv('../code/wilde_final/w_100_H.csv', sep=\"|\", encoding=\"utf-8\")\n",
    "w_100_W=pd.read_csv('../code/wilde_final/w_100_W.csv', sep=\"|\", encoding=\"utf-8\")\n",
    "w_100_S=pd.read_csv('../code/wilde_final/w_100_S.csv', sep=\"|\", encoding=\"utf-8\")"
   ]
  },
  {
   "cell_type": "code",
   "execution_count": 4,
   "metadata": {
    "collapsed": false
   },
   "outputs": [],
   "source": [
    "c_1k_H=pd.read_csv('../code/lincoln_final/c_1k_H.csv', sep=\"|\", encoding=\"utf-8\")\n",
    "c_1k_W=pd.read_csv('../code/lincoln_final/c_1k_W.csv', sep=\"|\", encoding=\"utf-8\")\n",
    "c_1k_S=pd.read_csv('../code/lincoln_final/c_1k_S.csv', sep=\"|\", encoding=\"utf-8\")\n",
    "c_500_H=pd.read_csv('../code/lincoln_final/c_500_H.csv', sep=\"|\", encoding=\"utf-8\")\n",
    "c_500_W=pd.read_csv('../code/lincoln_final/c_500_W.csv', sep=\"|\", encoding=\"utf-8\")\n",
    "c_500_S=pd.read_csv('../code/lincoln_final/c_500_S.csv', sep=\"|\", encoding=\"utf-8\")\n",
    "c_100_H=pd.read_csv('../code/lincoln_final/c_100_H.csv', sep=\"|\", encoding=\"utf-8\")\n",
    "c_100_W=pd.read_csv('../code/lincoln_final/c_100_W.csv', sep=\"|\", encoding=\"utf-8\")\n",
    "c_100_S=pd.read_csv('../code/lincoln_final/c_100_S.csv', sep=\"|\", encoding=\"utf-8\")"
   ]
  },
  {
   "cell_type": "code",
   "execution_count": 5,
   "metadata": {
    "collapsed": false
   },
   "outputs": [],
   "source": [
    "m_1k_H =pd.read_csv('../code/mod_final/m_1k_H.csv', encoding=\"utf-8\")\n",
    "m_1k_W =pd.read_csv('../code/mod_final/m_1k_W.csv', encoding=\"utf-8\")\n",
    "m_1k_S =pd.read_csv('../code/mod_final/m_1k_S.csv', encoding=\"utf-8\")\n",
    "m_500_H =pd.read_csv('../code/mod_final/m_500_H.csv', encoding=\"utf-8\")\n",
    "m_500_W =pd.read_csv('../code/mod_final/m_500_W.csv', encoding=\"utf-8\")\n",
    "m_500_S =pd.read_csv('../code/mod_final/m_500_S.csv', encoding=\"utf-8\")\n",
    "m_100_H =pd.read_csv('../code/mod_final/m_100_H.csv', encoding=\"utf-8\")\n",
    "m_100_W =pd.read_csv('../code/mod_final/m_100_W.csv', encoding=\"utf-8\")\n",
    "m_100_S =pd.read_csv('../code/mod_final/m_100_S.csv', encoding=\"utf-8\")"
   ]
  },
  {
   "cell_type": "code",
   "execution_count": 6,
   "metadata": {
    "collapsed": false
   },
   "outputs": [],
   "source": [
    "H_1k = [t_1k_H, w_1k_H, c_1k_H, m_1k_H]"
   ]
  },
  {
   "cell_type": "code",
   "execution_count": 7,
   "metadata": {
    "collapsed": false
   },
   "outputs": [],
   "source": [
    "df_1k_H = pd.concat(H_1k)\n",
    "\n",
    "df_1k_H.reset_index(inplace=True)"
   ]
  },
  {
   "cell_type": "code",
   "execution_count": 8,
   "metadata": {
    "collapsed": false
   },
   "outputs": [],
   "source": [
    "df_1k_H.drop(['index', 'Unnamed: 0'], axis=1, inplace=True)"
   ]
  },
  {
   "cell_type": "code",
   "execution_count": 9,
   "metadata": {
    "collapsed": true
   },
   "outputs": [],
   "source": [
    "W_1k = [t_1k_W, w_1k_W, c_1k_W, m_1k_W]\n",
    "S_1k = [t_1k_S, w_1k_S, c_1k_S, m_1k_S]\n",
    "H_500 = [t_500_H, w_500_H, c_500_H, m_500_H]\n",
    "W_500 = [t_500_W, w_500_W, c_500_W, m_500_W]\n",
    "S_500 = [t_500_S, w_500_S, c_500_S, m_500_S]\n",
    "H_100 = [t_100_H, w_100_H, c_100_H, m_100_H]\n",
    "W_100 = [t_100_W, w_100_W, c_100_W, m_100_W]\n",
    "S_100 = [t_100_S, w_100_S, c_100_S, m_100_S]"
   ]
  },
  {
   "cell_type": "code",
   "execution_count": 10,
   "metadata": {
    "collapsed": true
   },
   "outputs": [],
   "source": [
    "df_1k_W = pd.concat(W_1k)\n",
    "df_1k_W.reset_index(inplace=True)\n",
    "df_1k_S = pd.concat(S_1k)\n",
    "df_1k_S.reset_index(inplace=True)\n",
    "df_500_H = pd.concat(H_500)\n",
    "df_500_H.reset_index(inplace=True)\n",
    "df_500_W = pd.concat(W_500)\n",
    "df_500_W.reset_index(inplace=True)\n",
    "df_500_S = pd.concat(S_500)\n",
    "df_500_S.reset_index(inplace=True)\n",
    "df_100_H = pd.concat(H_100)\n",
    "df_100_H.reset_index(inplace=True)\n",
    "df_100_W = pd.concat(W_100)\n",
    "df_100_W.reset_index(inplace=True)\n",
    "df_100_S = pd.concat(S_100)\n",
    "df_100_S.reset_index(inplace=True)"
   ]
  },
  {
   "cell_type": "code",
   "execution_count": null,
   "metadata": {
    "collapsed": true
   },
   "outputs": [],
   "source": [
    "# # Add in the moderns!\n",
    "# df_1k_H = df_1k_H.append(m_1k_H)\n",
    "# df_1k_W = df_1k_W.append(m_1k_W)\n",
    "# df_1k_S = df_1k_S.append(m_1k_S)\n",
    "# df_500_H = df_500_H.append(m_500_H)\n",
    "# df_500_W = df_500_W.append(m_500_W)\n",
    "# df_500_S = df_500_S.append(m_500_S)\n",
    "# df_100_H = df_100_H.append(m_100_H)\n",
    "# df_100_W = df_100_W.append(m_100_W)\n",
    "# df_100_S = df_100_S.append(m_100_S)"
   ]
  },
  {
   "cell_type": "code",
   "execution_count": null,
   "metadata": {
    "collapsed": false
   },
   "outputs": [],
   "source": [
    "df_1k_H.code.value_counts()\n"
   ]
  },
  {
   "cell_type": "code",
   "execution_count": 11,
   "metadata": {
    "collapsed": false
   },
   "outputs": [],
   "source": [
    "df_1k_W.head()\n",
    "df_1k_W.drop(['Unnamed: 0', 'index'], axis=1, inplace=True)"
   ]
  },
  {
   "cell_type": "code",
   "execution_count": 12,
   "metadata": {
    "collapsed": false
   },
   "outputs": [],
   "source": [
    "df_1k_S.head()\n",
    "df_1k_S.drop(['Unnamed: 0', 'index'], axis=1, inplace=True)"
   ]
  },
  {
   "cell_type": "code",
   "execution_count": 13,
   "metadata": {
    "collapsed": false
   },
   "outputs": [],
   "source": [
    "df_500_H.head()\n",
    "df_500_H.drop(['Unnamed: 0', 'index'], axis=1, inplace=True)"
   ]
  },
  {
   "cell_type": "code",
   "execution_count": 14,
   "metadata": {
    "collapsed": false
   },
   "outputs": [
    {
     "data": {
      "text/html": [
       "<div>\n",
       "<table border=\"1\" class=\"dataframe\">\n",
       "  <thead>\n",
       "    <tr style=\"text-align: right;\">\n",
       "      <th></th>\n",
       "      <th>0</th>\n",
       "      <th>code</th>\n",
       "    </tr>\n",
       "  </thead>\n",
       "  <tbody>\n",
       "    <tr>\n",
       "      <th>0</th>\n",
       "      <td>[This, book, is, a, record, of, a, pleasure, t...</td>\n",
       "      <td>1</td>\n",
       "    </tr>\n",
       "    <tr>\n",
       "      <th>1</th>\n",
       "      <td>[year, ., A, good, many, expedients, were, res...</td>\n",
       "      <td>1</td>\n",
       "    </tr>\n",
       "    <tr>\n",
       "      <th>2</th>\n",
       "      <td>[We, got, plenty, of, fresh, oranges, ,, lemon...</td>\n",
       "      <td>1</td>\n",
       "    </tr>\n",
       "    <tr>\n",
       "      <th>3</th>\n",
       "      <td>[has, been, mentioned, in, history, for, three...</td>\n",
       "      <td>1</td>\n",
       "    </tr>\n",
       "    <tr>\n",
       "      <th>4</th>\n",
       "      <td>[but, this, thing, of, having, to, ring, for, ...</td>\n",
       "      <td>1</td>\n",
       "    </tr>\n",
       "  </tbody>\n",
       "</table>\n",
       "</div>"
      ],
      "text/plain": [
       "                                                   0  code\n",
       "0  [This, book, is, a, record, of, a, pleasure, t...     1\n",
       "1  [year, ., A, good, many, expedients, were, res...     1\n",
       "2  [We, got, plenty, of, fresh, oranges, ,, lemon...     1\n",
       "3  [has, been, mentioned, in, history, for, three...     1\n",
       "4  [but, this, thing, of, having, to, ring, for, ...     1"
      ]
     },
     "execution_count": 14,
     "metadata": {},
     "output_type": "execute_result"
    }
   ],
   "source": [
    "df_500_W.drop(['index', 'Unnamed: 0'], axis=1, inplace=True)\n",
    "df_500_W.head()\n"
   ]
  },
  {
   "cell_type": "code",
   "execution_count": 15,
   "metadata": {
    "collapsed": false
   },
   "outputs": [],
   "source": [
    "df_500_S.head()\n",
    "df_500_S.drop(['Unnamed: 0', 'index'], axis=1, inplace=True)"
   ]
  },
  {
   "cell_type": "code",
   "execution_count": 16,
   "metadata": {
    "collapsed": false
   },
   "outputs": [],
   "source": [
    "df_100_H.head()\n",
    "df_100_H.drop(['Unnamed: 0', 'index'], axis=1, inplace=True)"
   ]
  },
  {
   "cell_type": "code",
   "execution_count": 17,
   "metadata": {
    "collapsed": false
   },
   "outputs": [],
   "source": [
    "df_100_W.head()\n",
    "df_100_W.drop(['Unnamed: 0', 'index'], axis=1, inplace=True)"
   ]
  },
  {
   "cell_type": "code",
   "execution_count": 18,
   "metadata": {
    "collapsed": false
   },
   "outputs": [],
   "source": [
    "df_100_S.head()\n",
    "df_100_S.drop(['Unnamed: 0', 'index'], axis=1, inplace=True)"
   ]
  },
  {
   "cell_type": "code",
   "execution_count": 19,
   "metadata": {
    "collapsed": false
   },
   "outputs": [
    {
     "data": {
      "text/html": [
       "<div>\n",
       "<table border=\"1\" class=\"dataframe\">\n",
       "  <thead>\n",
       "    <tr style=\"text-align: right;\">\n",
       "      <th></th>\n",
       "      <th>0</th>\n",
       "      <th>code</th>\n",
       "    </tr>\n",
       "  </thead>\n",
       "  <tbody>\n",
       "  </tbody>\n",
       "</table>\n",
       "</div>"
      ],
      "text/plain": [
       "Empty DataFrame\n",
       "Columns: [0, code]\n",
       "Index: []"
      ]
     },
     "execution_count": 19,
     "metadata": {},
     "output_type": "execute_result"
    }
   ],
   "source": [
    "df_1k_H[df_1k_H.code.isnull()]"
   ]
  },
  {
   "cell_type": "code",
   "execution_count": 20,
   "metadata": {
    "collapsed": true
   },
   "outputs": [],
   "source": [
    "df_1k_H.code.fillna(value=100, inplace=True)"
   ]
  },
  {
   "cell_type": "code",
   "execution_count": 21,
   "metadata": {
    "collapsed": false
   },
   "outputs": [],
   "source": [
    "df_500_H['0'].fillna(value=100, inplace=True)"
   ]
  },
  {
   "cell_type": "code",
   "execution_count": 22,
   "metadata": {
    "collapsed": true
   },
   "outputs": [],
   "source": [
    "df_500_H.code.fillna(value=100, inplace=True)"
   ]
  },
  {
   "cell_type": "code",
   "execution_count": 23,
   "metadata": {
    "collapsed": false
   },
   "outputs": [],
   "source": [
    "df_100_H.code.fillna(value=100, inplace=True)"
   ]
  },
  {
   "cell_type": "code",
   "execution_count": 24,
   "metadata": {
    "collapsed": true
   },
   "outputs": [],
   "source": [
    "df_100_H['0'].fillna(value=\"NA\", inplace=True)"
   ]
  },
  {
   "cell_type": "code",
   "execution_count": 25,
   "metadata": {
    "collapsed": true
   },
   "outputs": [],
   "source": [
    "X_en = df_1k_H['0'].values # 1000 observations at the character level\n",
    "y_en = df_1k_H['code'].values"
   ]
  },
  {
   "cell_type": "code",
   "execution_count": 26,
   "metadata": {
    "collapsed": true
   },
   "outputs": [],
   "source": [
    "X_2 = df_1k_W['0'].values # 1000 observations at the word level\n",
    "y_2 = df_1k_W['code'].values"
   ]
  },
  {
   "cell_type": "code",
   "execution_count": 27,
   "metadata": {
    "collapsed": true
   },
   "outputs": [],
   "source": [
    "X_3 = df_1k_S['0'].values # 1000 observations at the sentence level\n",
    "y_3 = df_1k_S['code'].values"
   ]
  },
  {
   "cell_type": "code",
   "execution_count": 28,
   "metadata": {
    "collapsed": true
   },
   "outputs": [],
   "source": [
    "X_4 = df_500_H['0'].values # 500 observations at the character level\n",
    "y_4 = df_500_H['code'].values"
   ]
  },
  {
   "cell_type": "code",
   "execution_count": 29,
   "metadata": {
    "collapsed": true
   },
   "outputs": [],
   "source": [
    "X_5 = df_500_W['0'].values # 500 observations at the word level\n",
    "y_5 = df_500_W['code'].values"
   ]
  },
  {
   "cell_type": "code",
   "execution_count": 30,
   "metadata": {
    "collapsed": true
   },
   "outputs": [],
   "source": [
    "X_6 = df_500_S['0'].values # 500 observations at the sentence level\n",
    "y_6 = df_500_S['code'].values"
   ]
  },
  {
   "cell_type": "code",
   "execution_count": 31,
   "metadata": {
    "collapsed": true
   },
   "outputs": [],
   "source": [
    "X_7 = df_100_H['0'].values # 100 observations at the character level\n",
    "y_7 = df_100_H['code'].values"
   ]
  },
  {
   "cell_type": "code",
   "execution_count": 32,
   "metadata": {
    "collapsed": true
   },
   "outputs": [],
   "source": [
    "X_8 = df_100_W['0'].values # 100 observations at the word level\n",
    "y_8 = df_100_W['code'].values"
   ]
  },
  {
   "cell_type": "code",
   "execution_count": 33,
   "metadata": {
    "collapsed": true
   },
   "outputs": [],
   "source": [
    "X_9 = df_100_S['0'].values # 100 observations at the sentence level\n",
    "y_9 = df_100_S['code'].values"
   ]
  }
 ],
 "metadata": {
  "anaconda-cloud": {},
  "kernelspec": {
   "display_name": "Python [Root]",
   "language": "python",
   "name": "Python [Root]"
  },
  "language_info": {
   "codemirror_mode": {
    "name": "ipython",
    "version": 2
   },
   "file_extension": ".py",
   "mimetype": "text/x-python",
   "name": "python",
   "nbconvert_exporter": "python",
   "pygments_lexer": "ipython2",
   "version": "2.7.12"
  }
 },
 "nbformat": 4,
 "nbformat_minor": 0
}
